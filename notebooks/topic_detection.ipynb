{
 "cells": [
  {
   "cell_type": "code",
   "execution_count": 1,
   "metadata": {},
   "outputs": [],
   "source": [
    "import json\n",
    "import operator\n",
    "import numpy as np\n",
    "import pandas as pd\n",
    "import networkx as nx\n",
    "import collections,sys,math \n",
    "import matplotlib.pyplot as plt\n",
    "from collections import defaultdict\n",
    "%matplotlib inline"
   ]
  },
  {
   "cell_type": "code",
   "execution_count": 2,
   "metadata": {},
   "outputs": [],
   "source": [
    "# Load data\n",
    "data = json.load(open('../data/raw/tweet.json'))"
   ]
  },
  {
   "cell_type": "markdown",
   "metadata": {},
   "source": [
    "# Utils.py"
   ]
  },
  {
   "cell_type": "code",
   "execution_count": 3,
   "metadata": {},
   "outputs": [],
   "source": [
    "def get_user_attr(id_, dictionary_tweet, tweet, attr, user = True):\n",
    "    \"\"\"the function return the attr of the tweet and put it in the dictionary related to the tweet\n",
    "    @tweet_id: id \n",
    "    @dictionary_to_update: dictionary (key,value):(tweet_id, (key,value):(attr,value))\n",
    "    @tweet: who tweet\"\"\"\n",
    "    \n",
    "    if user:\n",
    "         dictionary_tweet[id_][attr] = tweet['user'][attr]\n",
    "    else:\n",
    "        dictionary_tweet[id_][attr] = tweet[attr]\n",
    "        \n",
    "    return dictionary_tweet"
   ]
  },
  {
   "cell_type": "code",
   "execution_count": 4,
   "metadata": {},
   "outputs": [],
   "source": [
    "def FindHashHags(tweet):\n",
    "    \"\"\"\n",
    "    This function takes the twittersearch output tweet,\n",
    "    cleans up the text and the format, and returns\n",
    "    the set of all hashtags in the tweet\n",
    "    \"\"\"\n",
    "    # First get the tweet text\n",
    "    tweettxt = str(tweet.encode('ascii','ignore'))\n",
    "    \n",
    "    # Add spacing before the hashtag symbol\n",
    "    tweettxt = tweettxt.replace('#',' #')\n",
    "    \n",
    "    # Clean all punctuation \n",
    "    for punct in '\\.!\",;:%<>/~@`()[]{}?-':\n",
    "        tweettxt = tweettxt.replace(punct,' ')\n",
    "    \n",
    "    # Split the tweet \n",
    "    tweettxt = tweettxt.split()\n",
    "    \n",
    "    # List of hashtags\n",
    "    hashtags = []\n",
    "    # Loop over the words in the tweet\n",
    "    for word in tweettxt:\n",
    "        # Find words beginning with hashtag\n",
    "        if word[0]=='#':\n",
    "\n",
    "            hashtag = word.lower()\n",
    "            # Correct for possisives\n",
    "            hashtag= hashtag.split('\\'')[0]         \n",
    "            \n",
    "            # Get rid of the hashtag symbol\n",
    "            hashtag = hashtag.replace('#','')\n",
    "            # Check existence of word after #\n",
    "            if len(hashtag)>0:\n",
    "                hashtags.append(hashtag)\n",
    "    \n",
    "    return hashtags"
   ]
  },
  {
   "cell_type": "markdown",
   "metadata": {},
   "source": [
    "### Create dictionary of tweets that gathers also information about user "
   ]
  },
  {
   "cell_type": "code",
   "execution_count": 5,
   "metadata": {},
   "outputs": [],
   "source": [
    "dictionary_tweet = {}\n",
    "list_attr_user = ['description','favourites_count','followers_count','friends_count','location','screen_name']\n",
    "list_attr = ['text', 'retweeted']\n",
    "\n",
    "for t in data:\n",
    "    id_ = t['id']\n",
    "    dictionary_tweet[id_] = {}\n",
    "    \n",
    "    # Extract attribute related to the tweet\n",
    "    for attr in list_attr:\n",
    "        dictionary_tweet = get_user_attr(id_, dictionary_tweet, t, attr, user = False)\n",
    "    \n",
    "    # Get info of the user \n",
    "    for attr in list_attr_user:\n",
    "        dictionary_tweet = get_user_attr(id_, dictionary_tweet, t, attr)"
   ]
  },
  {
   "cell_type": "code",
   "execution_count": 6,
   "metadata": {},
   "outputs": [
    {
     "name": "stdout",
     "output_type": "stream",
     "text": [
      "We collected:  4395  including retweets.\n"
     ]
    }
   ],
   "source": [
    "print (\"We collected: \", len(dictionary_tweet), \" including retweets.\")"
   ]
  },
  {
   "cell_type": "markdown",
   "metadata": {},
   "source": [
    "### Get the list of hashtags found in the collection of tweets"
   ]
  },
  {
   "cell_type": "code",
   "execution_count": 7,
   "metadata": {},
   "outputs": [],
   "source": [
    "list_hashtags = []\n",
    "\n",
    "# Dizionari che definisce per ogni tweet la lista degli hashtag\n",
    "hashtags_dict = defaultdict(list)\n",
    "\n",
    "# For each tweet\n",
    "for id_ in dictionary_tweet:\n",
    "    # Define the list of hashtags\n",
    "    list_h = FindHashHags(dictionary_tweet[id_]['text'])\n",
    "    hashtags_dict[id_] += list_h\n",
    "    list_hashtags += list_h\n",
    "    \n",
    "# List of hashtags\n",
    "non_set = list_hashtags\n",
    "# Set of hashtags\n",
    "list_hashtags = list(set(list_hashtags))"
   ]
  },
  {
   "cell_type": "code",
   "execution_count": 8,
   "metadata": {},
   "outputs": [
    {
     "name": "stdout",
     "output_type": "stream",
     "text": [
      "Il numero di hashtag, non unici, contenuti nei tweet è 9190 .\n",
      "Il numero di hashtag unici è:  1104 .\n"
     ]
    }
   ],
   "source": [
    "print (\"Il numero di hashtag, non unici, contenuti nei tweet è\", len(non_set), '.')\n",
    "print (\"Il numero di hashtag unici è: \", len(list_hashtags), '.')"
   ]
  },
  {
   "cell_type": "markdown",
   "metadata": {},
   "source": [
    "### Study the hashtag frequency to choose the hashtags to include in the analysis\n",
    "\n",
    "Idealmente, vogliamo effettuare la nostra analisi su hashtag significativi. Pertanto decidiamo un threshold euristico."
   ]
  },
  {
   "cell_type": "code",
   "execution_count": 9,
   "metadata": {},
   "outputs": [],
   "source": [
    "count_hashtags = defaultdict(int)\n",
    "for i in non_set:\n",
    "    count_hashtags[i] += 1"
   ]
  },
  {
   "cell_type": "markdown",
   "metadata": {},
   "source": [
    "In particolare osserviamo che la media e la mediana della collezione di tweet differiscono significativamente. Nello specifico la media è circa 9 volte più alta della mediana che, al contrario, indica che almeno il 50% degli hashtag compare solo una volta nei tweet di interesse.\n",
    "\n",
    "\n",
    "* Si decide di considerare gli hashtag la cui frequenza è maggiore di 5 e il cui numero di caratteri è superiore a 1."
   ]
  },
  {
   "cell_type": "code",
   "execution_count": 10,
   "metadata": {},
   "outputs": [],
   "source": [
    "revome_one_hash = {i:j for i,j in count_hashtags.items() if j > 5 and len(i)>1}\n",
    "list_hashtags = list(revome_one_hash.keys())"
   ]
  },
  {
   "cell_type": "markdown",
   "metadata": {},
   "source": [
    "Quindi vediamo quanti sono gli hashtag identificati come significativi per l'identificazione degli argomenti. "
   ]
  },
  {
   "cell_type": "code",
   "execution_count": 11,
   "metadata": {},
   "outputs": [
    {
     "name": "stdout",
     "output_type": "stream",
     "text": [
      "Numero di hashtag significativi:  157 .\n"
     ]
    }
   ],
   "source": [
    "print (\"Numero di hashtag significativi: \", len(list_hashtags), '.')"
   ]
  },
  {
   "cell_type": "markdown",
   "metadata": {},
   "source": [
    "### Definire nuovamente il dizionario tweet>lista di hashtag in accordo con gli hashtag rimasti"
   ]
  },
  {
   "cell_type": "code",
   "execution_count": 12,
   "metadata": {},
   "outputs": [],
   "source": [
    "hashtags_dict = {i: [k for k in j if k in list_hashtags] for i,j in hashtags_dict.items()}"
   ]
  },
  {
   "cell_type": "markdown",
   "metadata": {},
   "source": [
    "* Definisci, per ogni hashtag, la lista di tweet che lo contiene"
   ]
  },
  {
   "cell_type": "code",
   "execution_count": 13,
   "metadata": {},
   "outputs": [],
   "source": [
    "dict_hashtag = defaultdict(list)\n",
    "#list_id_toscana = []\n",
    "for tag in list_hashtags:\n",
    "    for i, l in hashtags_dict.items():\n",
    "        if tag in l:\n",
    "            dict_hashtag[tag] += [i]"
   ]
  },
  {
   "cell_type": "markdown",
   "metadata": {},
   "source": [
    "* Per ogni hashtag ottieni la lista degli hashtag con cui co-occorre."
   ]
  },
  {
   "cell_type": "code",
   "execution_count": 14,
   "metadata": {},
   "outputs": [],
   "source": [
    "dict_list_hashtag = defaultdict(list)\n",
    "#list_id_toscana = []\n",
    "for tag in list_hashtags:\n",
    "    for i, l in hashtags_dict.items():\n",
    "        if tag in l:\n",
    "            dict_list_hashtag[tag] += [j for j in l if j!=tag and j in list_hashtags]"
   ]
  },
  {
   "cell_type": "markdown",
   "metadata": {},
   "source": [
    "### Identificare i retweet e rimuoverli (questa sezione verrà modificata molto probabilmente)"
   ]
  },
  {
   "cell_type": "code",
   "execution_count": 15,
   "metadata": {},
   "outputs": [
    {
     "data": {
      "text/html": [
       "<div>\n",
       "<style scoped>\n",
       "    .dataframe tbody tr th:only-of-type {\n",
       "        vertical-align: middle;\n",
       "    }\n",
       "\n",
       "    .dataframe tbody tr th {\n",
       "        vertical-align: top;\n",
       "    }\n",
       "\n",
       "    .dataframe thead th {\n",
       "        text-align: right;\n",
       "    }\n",
       "</style>\n",
       "<table border=\"1\" class=\"dataframe\">\n",
       "  <thead>\n",
       "    <tr style=\"text-align: right;\">\n",
       "      <th></th>\n",
       "      <th>ID</th>\n",
       "      <th>TEXT</th>\n",
       "    </tr>\n",
       "  </thead>\n",
       "  <tbody>\n",
       "    <tr>\n",
       "      <th>0</th>\n",
       "      <td>970993648392220672</td>\n",
       "      <td>Qualità dell'#aria: i dati rilevati il #5marzo...</td>\n",
       "    </tr>\n",
       "    <tr>\n",
       "      <th>1</th>\n",
       "      <td>970993502669692928</td>\n",
       "      <td>RT @Laura_Rocci: #Toscana\\nIl @Mov5Stelle piaz...</td>\n",
       "    </tr>\n",
       "    <tr>\n",
       "      <th>2</th>\n",
       "      <td>970993070480199681</td>\n",
       "      <td>Bollettino Meteo https://t.co/SLPL8bu3NL 2018-...</td>\n",
       "    </tr>\n",
       "    <tr>\n",
       "      <th>3</th>\n",
       "      <td>970989949993603072</td>\n",
       "      <td>RT @LetsCleanUpEU: #fishingforlitter in #Tosca...</td>\n",
       "    </tr>\n",
       "    <tr>\n",
       "      <th>4</th>\n",
       "      <td>970989844267786240</td>\n",
       "      <td>RT @Laura_Rocci: #Toscana\\nIl @Mov5Stelle piaz...</td>\n",
       "    </tr>\n",
       "  </tbody>\n",
       "</table>\n",
       "</div>"
      ],
      "text/plain": [
       "                   ID                                               TEXT\n",
       "0  970993648392220672  Qualità dell'#aria: i dati rilevati il #5marzo...\n",
       "1  970993502669692928  RT @Laura_Rocci: #Toscana\\nIl @Mov5Stelle piaz...\n",
       "2  970993070480199681  Bollettino Meteo https://t.co/SLPL8bu3NL 2018-...\n",
       "3  970989949993603072  RT @LetsCleanUpEU: #fishingforlitter in #Tosca...\n",
       "4  970989844267786240  RT @Laura_Rocci: #Toscana\\nIl @Mov5Stelle piaz..."
      ]
     },
     "execution_count": 15,
     "metadata": {},
     "output_type": "execute_result"
    }
   ],
   "source": [
    "list_tweet = list(dictionary_tweet.keys())\n",
    "# List of tweet contents\n",
    "list_text_tweets = [(idx,dictionary_tweet[idx]['text']) for idx in list_tweet]\n",
    "\n",
    "# \n",
    "df_tweets = pd.DataFrame(list_text_tweets, columns=['ID', 'TEXT'])\n",
    "df_tweets.head()"
   ]
  },
  {
   "cell_type": "code",
   "execution_count": 16,
   "metadata": {},
   "outputs": [
    {
     "name": "stdout",
     "output_type": "stream",
     "text": [
      "Il numero finale dei tweet da analizzare è:  2016 .\n"
     ]
    }
   ],
   "source": [
    "# Remove http elements in text\n",
    "df_tweets['mod_TEXT'] = df_tweets['TEXT'].apply(lambda x: ' '.join([i for i in x.split(' ') if not i.startswith('http')]))\n",
    "\n",
    "# Get rid of duplicates\n",
    "df_tweets.drop_duplicates(['mod_TEXT'], keep = 'first', inplace=True)\n",
    "\n",
    "# Remove the RT from text\n",
    "df_tweets['mod_RT'] = df_tweets['mod_TEXT'].apply(lambda x: ' '.join(x.split(':')[1:]).strip() if x.startswith('RT') else ' '.join(x.split(':')).strip())\n",
    "\n",
    "# Get rid of duplicates\n",
    "df_tweets.drop_duplicates(['mod_RT'], keep = 'first', inplace=True)\n",
    "\n",
    "print (\"Il numero finale dei tweet da analizzare è: \", len(df_tweets), '.')"
   ]
  },
  {
   "cell_type": "markdown",
   "metadata": {},
   "source": [
    "## Operazione di clustering per trovare gli argomenti\n",
    "\n",
    "__Goal:__\n",
    "\n",
    "Find groups of tweets that belongs to the same topic (allowing that a tweet corresponds to more than one cluster).\n",
    "\n",
    "* Topic: set of hashtags - we make this assumption since has been shown that they are good proxy of topics.\n",
    "* We build the graph of hashtags that are connected when they co-occur in a tweet.\n",
    "* Apply the PCA.\n",
    "* Run a hierarchical clustering algorithm.\n",
    "* Then we associate tweets to the clusters."
   ]
  },
  {
   "cell_type": "code",
   "execution_count": 17,
   "metadata": {},
   "outputs": [],
   "source": [
    "# Edges of the graph - co-occurences\n",
    "tuples_hash = []\n",
    "for i,l in dict_list_hashtag.items():\n",
    "    for h,times in collections.Counter(l).items():\n",
    "        tuples_hash += [(i,h, times)]"
   ]
  },
  {
   "cell_type": "markdown",
   "metadata": {},
   "source": [
    "# PROVA a togliere l'occorrenza"
   ]
  },
  {
   "cell_type": "code",
   "execution_count": 18,
   "metadata": {},
   "outputs": [],
   "source": [
    "tuples_hash = [(i,j) for i,j,k in tuples_hash]# if k != 1]"
   ]
  },
  {
   "cell_type": "code",
   "execution_count": 19,
   "metadata": {},
   "outputs": [],
   "source": [
    "# Con Jaccard\n",
    "# La presenza di zeri dipende dall'operazione nella cella [31]. Da correggere\n",
    "tuples_weights = []\n",
    "for h_1, h_2 in tuples_hash:\n",
    "    inter = len(set(dict_list_hashtag[h_1]).intersection(dict_list_hashtag[h_2]))\n",
    "    unio = len(set(dict_list_hashtag[h_1]).union(dict_list_hashtag[h_2]))\n",
    "    jacc_distance = 1-(inter/unio)\n",
    "    tuples_weights += [(h_1,h_2,jacc_distance)]\n",
    "    #tuples_weights += [(h_1,h_2,inter)]"
   ]
  },
  {
   "cell_type": "markdown",
   "metadata": {},
   "source": [
    "### Create graph of hashtags"
   ]
  },
  {
   "cell_type": "code",
   "execution_count": 20,
   "metadata": {},
   "outputs": [
    {
     "name": "stdout",
     "output_type": "stream",
     "text": [
      "Name: \n",
      "Type: Graph\n",
      "Number of nodes: 157\n",
      "Number of edges: 670\n",
      "Average degree:   8.5350\n"
     ]
    }
   ],
   "source": [
    "G = nx.Graph()\n",
    "G.add_weighted_edges_from(tuples_weights)\n",
    "print (nx.info(G))"
   ]
  },
  {
   "cell_type": "code",
   "execution_count": 21,
   "metadata": {},
   "outputs": [],
   "source": [
    "# Assign id\n",
    "id_hash = {i:j for i,j in enumerate(list_hashtags)}\n",
    "hash_id = {j:i for i,j in id_hash.items()}"
   ]
  },
  {
   "cell_type": "markdown",
   "metadata": {},
   "source": [
    "### Get the adjecency matrix"
   ]
  },
  {
   "cell_type": "code",
   "execution_count": 22,
   "metadata": {},
   "outputs": [],
   "source": [
    "adjacency_matrix = nx.to_numpy_matrix(G)"
   ]
  },
  {
   "cell_type": "code",
   "execution_count": 23,
   "metadata": {},
   "outputs": [
    {
     "data": {
      "text/plain": [
       "PCA(copy=True, iterated_power='auto', n_components=None, random_state=None,\n",
       "  svd_solver='auto', tol=0.0, whiten=False)"
      ]
     },
     "execution_count": 23,
     "metadata": {},
     "output_type": "execute_result"
    }
   ],
   "source": [
    "import numpy as np\n",
    "from sklearn.decomposition import PCA\n",
    "X = adjacency_matrix\n",
    "pca = PCA()\n",
    "pca.fit(X)"
   ]
  },
  {
   "cell_type": "code",
   "execution_count": 24,
   "metadata": {},
   "outputs": [
    {
     "data": {
      "text/plain": [
       "(0, 30)"
      ]
     },
     "execution_count": 24,
     "metadata": {},
     "output_type": "execute_result"
    },
    {
     "data": {
      "image/png": "[encoded data removed]",
      "text/plain": [
       "<matplotlib.figure.Figure at 0x1513624ac8>"
      ]
     },
     "metadata": {},
     "output_type": "display_data"
    }
   ],
   "source": [
    "variance = pca.explained_variance_ratio_\n",
    "plt.plot(np.cumsum(variance))\n",
    "plt.xlim((0,30))"
   ]
  },
  {
   "cell_type": "markdown",
   "metadata": {},
   "source": [
    "### Choose the number of components and apply the dimensionality reduction"
   ]
  },
  {
   "cell_type": "code",
   "execution_count": 25,
   "metadata": {},
   "outputs": [
    {
     "data": {
      "text/plain": [
       "PCA(copy=True, iterated_power='auto', n_components=30, random_state=None,\n",
       "  svd_solver='arpack', tol=0.0, whiten=False)"
      ]
     },
     "execution_count": 25,
     "metadata": {},
     "output_type": "execute_result"
    }
   ],
   "source": [
    "X = adjacency_matrix\n",
    "pca = PCA(n_components=30,svd_solver = 'arpack' )\n",
    "pca.fit(X) "
   ]
  },
  {
   "cell_type": "code",
   "execution_count": 26,
   "metadata": {},
   "outputs": [],
   "source": [
    "dimensionality_reduction = pca.fit_transform(X)"
   ]
  },
  {
   "cell_type": "markdown",
   "metadata": {},
   "source": [
    "## Hierarchical clustering\n",
    "\n",
    "* __Linkage__: Ward\n",
    "* __Metric__: Euclidean"
   ]
  },
  {
   "cell_type": "code",
   "execution_count": 27,
   "metadata": {},
   "outputs": [],
   "source": [
    "from scipy.cluster.hierarchy import dendrogram, linkage"
   ]
  },
  {
   "cell_type": "code",
   "execution_count": 28,
   "metadata": {},
   "outputs": [],
   "source": [
    "np.set_printoptions(precision=5, suppress=True)\n",
    "Z = linkage(dimensionality_reduction, 'ward', metric = 'euclidean')"
   ]
  },
  {
   "cell_type": "code",
   "execution_count": 53,
   "metadata": {},
   "outputs": [
    {
     "data": {
      "text/plain": [
       "array([[ 76.     ,  77.     ,   0.     ,   2.     ],\n",
       "       [123.     , 132.     ,   0.     ,   2.     ],\n",
       "       [ 56.     ,  92.     ,   0.     ,   2.     ],\n",
       "       [122.     , 136.     ,   0.     ,   2.     ],\n",
       "       [ 66.     ,  69.     ,   0.     ,   2.     ],\n",
       "       [ 49.     ,  51.     ,   0.     ,   2.     ],\n",
       "       [ 81.     ,  93.     ,   0.     ,   2.     ],\n",
       "       [158.     , 160.     ,   0.     ,   4.     ],\n",
       "       [131.     , 139.     ,   0.     ,   2.     ],\n",
       "       [150.     , 153.     ,   0.     ,   2.     ],\n",
       "       [ 68.     , 157.     ,   0.     ,   3.     ],\n",
       "       [ 50.     , 162.     ,   0.     ,   3.     ],\n",
       "       [100.     , 101.     ,   0.     ,   2.     ],\n",
       "       [117.     , 118.     ,   0.     ,   2.     ],\n",
       "       [142.     , 143.     ,   0.     ,   2.     ],\n",
       "       [ 86.     ,  87.     ,   0.     ,   2.     ],\n",
       "       [152.     , 166.     ,   0.     ,   3.     ],\n",
       "       [ 62.     ,  88.     ,   0.     ,   2.     ],\n",
       "       [ 83.     , 163.     ,   0.     ,   3.     ],\n",
       "       [151.     , 173.     ,   0.     ,   4.     ],\n",
       "       [155.     , 156.     ,   0.     ,   2.     ],\n",
       "       [ 53.     , 168.     ,   0.     ,   4.     ],\n",
       "       [ 23.     ,  31.     ,   0.     ,   2.     ],\n",
       "       [140.     , 141.     ,   0.     ,   2.     ],\n",
       "       [159.     , 175.     ,   0.     ,   5.     ],\n",
       "       [144.     , 171.     ,   0.     ,   3.     ],\n",
       "       [ 52.     , 178.     ,   0.     ,   5.     ],\n",
       "       [124.     , 180.     ,   0.04598,   3.     ],\n",
       "       [161.     , 167.     ,   0.08937,   5.     ],\n",
       "       [129.     , 184.     ,   0.10639,   4.     ],\n",
       "       [130.     , 165.     ,   0.14001,   3.     ],\n",
       "       [127.     , 128.     ,   0.14274,   2.     ],\n",
       "       [ 89.     , 174.     ,   0.14624,   3.     ],\n",
       "       [ 99.     , 170.     ,   0.15478,   3.     ],\n",
       "       [154.     , 177.     ,   0.16307,   3.     ],\n",
       "       [111.     , 169.     ,   0.17237,   3.     ],\n",
       "       [125.     , 186.     ,   0.20801,   5.     ],\n",
       "       [172.     , 185.     ,   0.21272,   7.     ],\n",
       "       [146.     , 147.     ,   0.26059,   2.     ],\n",
       "       [133.     , 182.     ,   0.26325,   4.     ],\n",
       "       [164.     , 193.     ,   0.31128,   9.     ],\n",
       "       [121.     , 187.     ,   0.32587,   4.     ],\n",
       "       [105.     , 192.     ,   0.35836,   4.     ],\n",
       "       [181.     , 194.     ,   0.38296,  12.     ],\n",
       "       [176.     , 191.     ,   0.43044,   7.     ],\n",
       "       [  4.     , 120.     ,   0.43757,   2.     ],\n",
       "       [126.     , 137.     ,   0.49318,   2.     ],\n",
       "       [188.     , 198.     ,   0.50016,   6.     ],\n",
       "       [ 16.     ,  34.     ,   0.53453,   2.     ],\n",
       "       [189.     , 200.     ,   0.59075,  15.     ],\n",
       "       [138.     , 196.     ,   0.64556,   5.     ],\n",
       "       [ 35.     ,  37.     ,   0.64572,   2.     ],\n",
       "       [ 18.     , 205.     ,   0.75087,   3.     ],\n",
       "       [203.     , 207.     ,   0.78621,   7.     ],\n",
       "       [102.     , 199.     ,   0.81631,   5.     ],\n",
       "       [197.     , 204.     ,   0.82605,  15.     ],\n",
       "       [ 12.     ,  13.     ,   0.84884,   2.     ],\n",
       "       [ 84.     , 206.     ,   0.88449,  16.     ],\n",
       "       [ 59.     , 214.     ,   0.90901,  17.     ],\n",
       "       [109.     , 211.     ,   0.94365,   6.     ],\n",
       "       [ 36.     ,  40.     ,   0.96062,   2.     ],\n",
       "       [ 98.     , 113.     ,   0.98573,   2.     ],\n",
       "       [103.     , 115.     ,   1.01399,   2.     ],\n",
       "       [145.     , 149.     ,   1.01589,   2.     ],\n",
       "       [208.     , 209.     ,   1.02407,   5.     ],\n",
       "       [ 91.     ,  96.     ,   1.05663,   2.     ],\n",
       "       [ 58.     ,  63.     ,   1.07275,   2.     ],\n",
       "       [112.     , 218.     ,   1.08558,   3.     ],\n",
       "       [ 73.     ,  79.     ,   1.08607,   2.     ],\n",
       "       [ 67.     ,  72.     ,   1.09803,   2.     ],\n",
       "       [119.     , 148.     ,   1.15784,   2.     ],\n",
       "       [ 10.     , 213.     ,   1.16292,   3.     ],\n",
       "       [106.     , 216.     ,   1.174  ,   7.     ],\n",
       "       [104.     , 190.     ,   1.24084,   4.     ],\n",
       "       [ 94.     ,  97.     ,   1.29027,   2.     ],\n",
       "       [ 65.     , 220.     ,   1.29574,   3.     ],\n",
       "       [135.     , 210.     ,   1.3062 ,   8.     ],\n",
       "       [ 71.     , 215.     ,   1.31929,  18.     ],\n",
       "       [ 64.     , 223.     ,   1.33007,   3.     ],\n",
       "       [ 44.     ,  75.     ,   1.34548,   2.     ],\n",
       "       [  5.     , 202.     ,   1.39026,   3.     ],\n",
       "       [116.     , 219.     ,   1.41068,   3.     ],\n",
       "       [ 60.     , 183.     ,   1.43213,   6.     ],\n",
       "       [179.     , 221.     ,   1.44022,   7.     ],\n",
       "       [ 11.     , 228.     ,   1.47273,   4.     ],\n",
       "       [ 17.     ,  20.     ,   1.52226,   2.     ],\n",
       "       [ 61.     , 233.     ,   1.54666,   9.     ],\n",
       "       [195.     , 226.     ,   1.56536,   4.     ],\n",
       "       [ 70.     ,  80.     ,   1.5729 ,   2.     ],\n",
       "       [107.     , 114.     ,   1.60534,   2.     ],\n",
       "       [222.     , 230.     ,   1.6619 ,   6.     ],\n",
       "       [ 48.     , 236.     ,   1.68202,   3.     ],\n",
       "       [ 55.     ,  78.     ,   1.70558,   2.     ],\n",
       "       [ 14.     , 241.     ,   1.71511,   5.     ],\n",
       "       [  0.     ,  21.     ,   1.75071,   2.     ],\n",
       "       [ 54.     ,  90.     ,   1.75651,   2.     ],\n",
       "       [ 26.     , 242.     ,   1.85459,   3.     ],\n",
       "       [ 19.     , 110.     ,   1.94426,   2.     ],\n",
       "       [201.     , 227.     ,   1.96143,   9.     ],\n",
       "       [ 39.     ,  43.     ,   2.01761,   2.     ],\n",
       "       [ 85.     , 244.     ,   2.02729,   5.     ],\n",
       "       [217.     , 240.     ,   2.05778,   9.     ],\n",
       "       [ 95.     , 252.     ,   2.1406 ,   3.     ],\n",
       "       [ 28.     , 108.     ,   2.15014,   2.     ],\n",
       "       [229.     , 235.     ,   2.18805,  10.     ],\n",
       "       [225.     , 232.     ,   2.21159,   5.     ],\n",
       "       [ 57.     , 245.     ,   2.21433,   3.     ],\n",
       "       [212.     , 237.     ,   2.26559,  18.     ],\n",
       "       [224.     , 246.     ,   2.3022 ,   5.     ],\n",
       "       [ 45.     , 250.     ,   2.343  ,   6.     ],\n",
       "       [ 24.     ,  33.     ,   2.36692,   2.     ],\n",
       "       [ 82.     , 248.     ,   2.3691 ,   4.     ],\n",
       "       [ 42.     , 254.     ,   2.39946,   3.     ],\n",
       "       [ 15.     , 256.     ,   2.51949,   3.     ],\n",
       "       [238.     , 247.     ,   2.5666 ,   9.     ],\n",
       "       [253.     , 265.     ,   2.58878,   8.     ],\n",
       "       [259.     , 263.     ,   2.64356,   6.     ],\n",
       "       [249.     , 262.     ,   2.69334,   7.     ],\n",
       "       [ 22.     ,  29.     ,   2.72295,   2.     ],\n",
       "       [251.     , 269.     ,   2.76107,   5.     ],\n",
       "       [239.     , 257.     ,   2.77747,  11.     ],\n",
       "       [243.     , 264.     ,   2.79685,  27.     ],\n",
       "       [ 25.     ,  74.     ,   2.88694,   2.     ],\n",
       "       [231.     , 267.     ,   3.02577,   4.     ],\n",
       "       [ 27.     ,  41.     ,   3.04152,   2.     ],\n",
       "       [255.     , 258.     ,   3.08669,  18.     ],\n",
       "       [268.     , 271.     ,   3.11174,  13.     ],\n",
       "       [ 38.     , 276.     ,   3.18493,   6.     ],\n",
       "       [234.     , 274.     ,   3.28797,  25.     ],\n",
       "       [  9.     , 283.     ,   3.35354,  14.     ],\n",
       "       [260.     , 273.     ,   3.53384,   8.     ],\n",
       "       [ 46.     , 266.     ,   3.54099,   7.     ],\n",
       "       [270.     , 280.     ,   3.6699 ,   7.     ],\n",
       "       [261.     , 272.     ,   3.86904,  18.     ],\n",
       "       [277.     , 285.     ,   4.07211,  36.     ],\n",
       "       [  8.     , 275.     ,   4.07936,   3.     ],\n",
       "       [134.     , 278.     ,   4.09012,  28.     ],\n",
       "       [286.     , 290.     ,   4.20812,  32.     ],\n",
       "       [284.     , 288.     ,   4.2872 ,  13.     ],\n",
       "       [ 47.     , 281.     ,   4.31816,   3.     ],\n",
       "       [  6.     , 292.     ,   4.4915 ,   4.     ],\n",
       "       [287.     , 294.     ,   4.57207,  40.     ],\n",
       "       [289.     , 295.     ,   4.75986,  20.     ],\n",
       "       [ 32.     , 282.     ,   4.89295,  19.     ],\n",
       "       [279.     , 296.     ,   5.12414,   5.     ],\n",
       "       [ 30.     , 297.     ,   5.29033,   5.     ],\n",
       "       [299.     , 300.     ,   6.17265,  39.     ],\n",
       "       [291.     , 303.     ,   6.41508,  75.     ],\n",
       "       [  2.     , 301.     ,   6.43758,   6.     ],\n",
       "       [  1.     , 302.     ,   6.57825,   6.     ],\n",
       "       [293.     , 304.     ,   7.28305, 103.     ],\n",
       "       [305.     , 306.     ,   7.78737,  12.     ],\n",
       "       [  3.     ,   7.     ,   8.73564,   2.     ],\n",
       "       [298.     , 307.     ,   8.99598, 143.     ],\n",
       "       [308.     , 309.     ,   9.06002,  14.     ],\n",
       "       [310.     , 311.     ,  13.47913, 157.     ]])"
      ]
     },
     "execution_count": 53,
     "metadata": {},
     "output_type": "execute_result"
    }
   ],
   "source": [
    "Z"
   ]
  },
  {
   "cell_type": "code",
   "execution_count": 54,
   "metadata": {},
   "outputs": [
    {
     "data": {
      "text/plain": [
       "76.0"
      ]
     },
     "execution_count": 54,
     "metadata": {},
     "output_type": "execute_result"
    }
   ],
   "source": [
    "Z[0,0]"
   ]
  },
  {
   "cell_type": "code",
   "execution_count": 55,
   "metadata": {},
   "outputs": [
    {
     "data": {
      "text/plain": [
       "77.0"
      ]
     },
     "execution_count": 55,
     "metadata": {},
     "output_type": "execute_result"
    }
   ],
   "source": [
    "Z[0,1]"
   ]
  },
  {
   "cell_type": "code",
   "execution_count": 29,
   "metadata": {},
   "outputs": [],
   "source": [
    "from scipy.cluster.hierarchy import cophenet\n",
    "from scipy.spatial.distance import pdist"
   ]
  },
  {
   "cell_type": "code",
   "execution_count": 30,
   "metadata": {},
   "outputs": [
    {
     "data": {
      "image/png": "[encoded data removed]",
      "text/plain": [
       "<matplotlib.figure.Figure at 0x1a1dd00470>"
      ]
     },
     "metadata": {},
     "output_type": "display_data"
    }
   ],
   "source": [
    "plt.figure(figsize=(25, 10))\n",
    "plt.title('Hierarchical Clustering Dendrogram')\n",
    "plt.xlabel('sample index')\n",
    "plt.ylabel('distance')\n",
    "dendrogram(\n",
    "    Z,\n",
    "    leaf_rotation=90.,  # rotates the x axis labels\n",
    "    leaf_font_size=8.,  # font size for the x axis labels\n",
    ")\n",
    "plt.show()"
   ]
  },
  {
   "cell_type": "code",
   "execution_count": 31,
   "metadata": {},
   "outputs": [
    {
     "data": {
      "text/plain": [
       "([<matplotlib.axis.XTick at 0x1a1eb78e10>,\n",
       "  <matplotlib.axis.XTick at 0x1a1eb7e160>,\n",
       "  <matplotlib.axis.XTick at 0x1a1eb84400>,\n",
       "  <matplotlib.axis.XTick at 0x1a1ebf2978>,\n",
       "  <matplotlib.axis.XTick at 0x1a1ebf2940>,\n",
       "  <matplotlib.axis.XTick at 0x1a1ebf2748>,\n",
       "  <matplotlib.axis.XTick at 0x1a1ebf9cc0>,\n",
       "  <matplotlib.axis.XTick at 0x1a1ebf9470>],\n",
       " <a list of 8 Text xticklabel objects>)"
      ]
     },
     "execution_count": 31,
     "metadata": {},
     "output_type": "execute_result"
    },
    {
     "data": {
      "image/png": "[encoded data removed]",
      "text/plain": [
       "<matplotlib.figure.Figure at 0x1a1ec12f98>"
      ]
     },
     "metadata": {},
     "output_type": "display_data"
    }
   ],
   "source": [
    "plt.plot(sorted(Z[:,2], reverse =True))\n",
    "plt.xlabel('Num of clusters')\n",
    "plt.xticks(range(1,160, 20),range(0,200, 20))"
   ]
  },
  {
   "cell_type": "markdown",
   "metadata": {},
   "source": [
    "# Prova a creare dataset per visualizzazione bubble"
   ]
  },
  {
   "cell_type": "code",
   "execution_count": 58,
   "metadata": {},
   "outputs": [
    {
     "data": {
      "text/plain": [
       "AgglomerativeClustering(affinity='euclidean', compute_full_tree='auto',\n",
       "            connectivity=None, linkage='ward', memory=None, n_clusters=20,\n",
       "            pooling_func=<function mean at 0x10904b598>)"
      ]
     },
     "execution_count": 58,
     "metadata": {},
     "output_type": "execute_result"
    }
   ],
   "source": [
    "from sklearn.cluster import AgglomerativeClustering\n",
    "Hclustering = AgglomerativeClustering(n_clusters=20, affinity='euclidean', linkage=\"ward\")\n",
    "Hclustering.fit(dimensionality_reduction)"
   ]
  },
  {
   "cell_type": "code",
   "execution_count": 59,
   "metadata": {},
   "outputs": [],
   "source": [
    "prova = Hclustering.fit_predict(dimensionality_reduction)"
   ]
  },
  {
   "cell_type": "markdown",
   "metadata": {},
   "source": [
    "### Clusters"
   ]
  },
  {
   "cell_type": "code",
   "execution_count": 60,
   "metadata": {},
   "outputs": [],
   "source": [
    "classes = list(zip(G.nodes(),prova))\n",
    "h_class = {i:j for i,j in classes}"
   ]
  },
  {
   "cell_type": "code",
   "execution_count": 61,
   "metadata": {},
   "outputs": [],
   "source": [
    "# For each cluster: the list of hashtags in it\n",
    "di_clas = defaultdict(list)\n",
    "for i,j in classes:\n",
    "    di_clas[j] += [i]"
   ]
  },
  {
   "cell_type": "code",
   "execution_count": 62,
   "metadata": {},
   "outputs": [],
   "source": [
    "# For each cluster: the number of hashtags\n",
    "di = defaultdict(int)\n",
    "for i in prova:\n",
    "    di[i] += 1"
   ]
  },
  {
   "cell_type": "markdown",
   "metadata": {},
   "source": [
    "### Smistare i tweet nei cluster"
   ]
  },
  {
   "cell_type": "markdown",
   "metadata": {},
   "source": [
    "Per ogni tweet si calcola la proporzione di hashtag appartenenti alle classi individuate. Quindi, il tweet appartiene alla classe cui la maggior parte dei sui tweet appartiene. Nello specifico, nel caaso in cui ci sia una stessa proporzione per tutti i cluster, allora il tweet apparterrà a tutte e tre le classi."
   ]
  },
  {
   "cell_type": "code",
   "execution_count": 63,
   "metadata": {},
   "outputs": [],
   "source": [
    "# Assign the tweets to clusters\n",
    "tweets_in_class = defaultdict(list)\n",
    "for c in di.keys():\n",
    "    for i in di_clas[c]:\n",
    "        tweets_in_class[c] += dict_hashtag[i]\n",
    "        \n",
    "set_tweets_class = {c: list(set(l)) for c,l in tweets_in_class.items()}\n",
    "    "
   ]
  },
  {
   "cell_type": "code",
   "execution_count": 64,
   "metadata": {},
   "outputs": [],
   "source": [
    "# Per ogni classe il set degli hashtag trovati nei tweet\n",
    "list_hash_class = defaultdict(list)\n",
    "\n",
    "for c, l_t in set_tweets_class.items():\n",
    "    for t in l_t:\n",
    "        list_hash_class[c] += hashtags_dict[t]\n",
    "        \n",
    "set_hash_class = {i:list(set(j)) for i,j in list_hash_class.items()}"
   ]
  },
  {
   "cell_type": "markdown",
   "metadata": {},
   "source": [
    "* Per ogni tweet, calcolare la proporzione di hashtag in ogni classe"
   ]
  },
  {
   "cell_type": "code",
   "execution_count": 65,
   "metadata": {},
   "outputs": [],
   "source": [
    "dict_tweet_prop_class = {}\n",
    "for tweet in list_tweet:\n",
    "    \n",
    "    list_hash_tweet = hashtags_dict[tweet]\n",
    "    if len(list_hash_tweet)==0:\n",
    "        continue\n",
    "    \n",
    "    dict_tweet_prop_class[tweet] = {}\n",
    "    for c in di.keys():\n",
    "        proportion_hashtag = len(set(list_hash_tweet).intersection(set(di_clas[c])))/len(set(list_hash_tweet))\n",
    "        if proportion_hashtag != 0: \n",
    "            dict_tweet_prop_class[tweet][c] = proportion_hashtag"
   ]
  },
  {
   "cell_type": "markdown",
   "metadata": {},
   "source": [
    "* Assegnare tweet a classe"
   ]
  },
  {
   "cell_type": "code",
   "execution_count": 66,
   "metadata": {},
   "outputs": [],
   "source": [
    "tweet_belongs_to = {}\n",
    "\n",
    "for tweet, clas in dict_tweet_prop_class.items():\n",
    "    \n",
    "    if tweet in df_tweets['ID'].unique():\n",
    "        if len(set(list(clas.values()))) > 1:\n",
    "            tweet_belongs_to[tweet] = [max(clas.items(), key=operator.itemgetter(1))[0]]\n",
    "\n",
    "        elif len(set(list(clas.values()))) == 1:\n",
    "            tweet_belongs_to[tweet] = list(clas.keys())"
   ]
  },
  {
   "cell_type": "code",
   "execution_count": 67,
   "metadata": {},
   "outputs": [],
   "source": [
    "# To each class associate the list of tweets\n",
    "class_of_tweets = defaultdict(list)\n",
    "for tweet, c in tweet_belongs_to.items():\n",
    "    for el in c:\n",
    "        class_of_tweets[el] += [tweet]"
   ]
  },
  {
   "cell_type": "code",
   "execution_count": 42,
   "metadata": {},
   "outputs": [
    {
     "name": "stdout",
     "output_type": "stream",
     "text": [
      "8 129\n",
      "15 96\n",
      "4 139\n",
      "14 83\n",
      "7 69\n",
      "17 418\n",
      "6 87\n",
      "16 70\n",
      "2 154\n",
      "19 289\n",
      "0 114\n",
      "1 157\n",
      "5 97\n",
      "10 50\n",
      "3 125\n",
      "9 73\n",
      "18 49\n",
      "11 271\n",
      "13 102\n",
      "12 129\n"
     ]
    }
   ],
   "source": [
    "for i,j in class_of_tweets.items():\n",
    "    print (i,len(set(j)))"
   ]
  },
  {
   "cell_type": "markdown",
   "metadata": {},
   "source": [
    "# Primo file di output\n",
    "\n",
    "Per ogni topi rappresento la top 10 di hashtag e il numero di tweet corrispondenti"
   ]
  },
  {
   "cell_type": "code",
   "execution_count": 43,
   "metadata": {},
   "outputs": [],
   "source": [
    "output = []\n",
    "for cluster, list_hash in di_clas.items():\n",
    "    dictionary = {}\n",
    "    dictionary['topic'] = int(cluster)\n",
    "    dict_ha = {i: count_hashtags[i] for i in list_hash}\n",
    "    dictionary['hashtags'] = [(i,count_hashtags[i]) for i in sorted(dict_ha, key=dict_ha.get, reverse=True)]\n",
    "    dictionary['number_tweets'] = len(set(class_of_tweets[cluster]))\n",
    "    \n",
    "    output += [dictionary]"
   ]
  },
  {
   "cell_type": "code",
   "execution_count": 44,
   "metadata": {},
   "outputs": [],
   "source": [
    "with open('../data/output/topic_squares.json', 'w') as fp:\n",
    "    json.dump(output, fp)"
   ]
  },
  {
   "cell_type": "markdown",
   "metadata": {},
   "source": [
    "# Secondo file output"
   ]
  },
  {
   "cell_type": "code",
   "execution_count": 45,
   "metadata": {},
   "outputs": [],
   "source": [
    "output_2 = []\n",
    "for cluster, list_hash in di_clas.items():\n",
    "    dictionary = {}\n",
    "    dictionary['topic'] = int(cluster)\n",
    "    dictionary['list_tweets'] = class_of_tweets[cluster]\n",
    "    output_2 += [dictionary]"
   ]
  },
  {
   "cell_type": "code",
   "execution_count": 46,
   "metadata": {},
   "outputs": [],
   "source": [
    "with open('../data/output/tweet_list.json', 'w') as fp:\n",
    "    json.dump(output_2, fp)"
   ]
  },
  {
   "cell_type": "markdown",
   "metadata": {},
   "source": [
    "## Creare file per la visualizzazione dei topic"
   ]
  },
  {
   "cell_type": "code",
   "execution_count": 75,
   "metadata": {},
   "outputs": [],
   "source": [
    "output_3 = []\n",
    "for cluster, list_hash in di_clas.items():\n",
    "    dictionary = {}\n",
    "    dictionary['topic'] = int(cluster)\n",
    "    dict_ha = {i: count_hashtags[i] for i in list_hash}\n",
    "    dictionary['hashtags'] = [(i,len(dict_hashtag[i])) for i in sorted(dict_ha, key=dict_ha.get, reverse=True)]\n",
    "    dictionary['number_tweets'] = len(set(class_of_tweets[cluster]))\n",
    "    \n",
    "    output_3 += [dictionary]"
   ]
  },
  {
   "cell_type": "code",
   "execution_count": 76,
   "metadata": {},
   "outputs": [
    {
     "data": {
      "text/plain": [
       "[{'hashtags': [('news', 142),\n",
       "   ('5marzo', 18),\n",
       "   ('italia', 18),\n",
       "   ('elezionipolitiche', 9),\n",
       "   ('pistoia', 7),\n",
       "   ('senato', 7)],\n",
       "  'number_tweets': 129,\n",
       "  'topic': 8},\n",
       " {'hashtags': [('toscana', 148)], 'number_tweets': 96, 'topic': 15},\n",
       " {'hashtags': [('elezioni2018', 879)], 'number_tweets': 418, 'topic': 17},\n",
       " {'hashtags': [('firenze', 988)], 'number_tweets': 289, 'topic': 19},\n",
       " {'hashtags': [('nardella', 153),\n",
       "   ('idydiene', 70),\n",
       "   ('risorse', 62),\n",
       "   ('papediaw', 48),\n",
       "   ('fiorentina', 30),\n",
       "   ('razzismo', 27),\n",
       "   ('africa', 24),\n",
       "   ('ordine', 22),\n",
       "   ('caos', 22),\n",
       "   ('senegalesi', 19),\n",
       "   ('ultimora', 18),\n",
       "   ('palermo', 17),\n",
       "   ('senegalese', 17),\n",
       "   ('senegal', 17),\n",
       "   ('5febbraio', 13),\n",
       "   ('somalia', 13),\n",
       "   ('iosonoantifascista', 13),\n",
       "   ('immigrazion', 13),\n",
       "   ('astori', 12),\n",
       "   ('fioriere', 11),\n",
       "   ('omicidio', 9),\n",
       "   ('presidio', 9),\n",
       "   ('pirrone', 9),\n",
       "   ('polizia', 7),\n",
       "   ('davideastori', 6),\n",
       "   ('solidali', 6),\n",
       "   ('sindaco', 6),\n",
       "   ('id', 6)],\n",
       "  'number_tweets': 114,\n",
       "  'topic': 0},\n",
       " {'hashtags': [('lucca', 90)], 'number_tweets': 70, 'topic': 16},\n",
       " {'hashtags': [('livorno', 962)], 'number_tweets': 271, 'topic': 11},\n",
       " {'hashtags': [('arezzo', 143), ('pisa', 118), ('siena', 96)],\n",
       "  'number_tweets': 154,\n",
       "  'topic': 2},\n",
       " {'hashtags': [('casapound', 131),\n",
       "   ('iltempodiosh', 44),\n",
       "   ('4marzo2018', 30),\n",
       "   ('elezioni4marzo2018', 19),\n",
       "   ('4marzo', 14),\n",
       "   ('centrodestra', 12),\n",
       "   ('berlusconi', 11),\n",
       "   ('voto', 9),\n",
       "   ('5stelle', 8),\n",
       "   ('italyelection2018', 8),\n",
       "   ('benigni', 8),\n",
       "   ('poterealpopolo', 7),\n",
       "   ('dimissioni', 7),\n",
       "   ('calenda', 6)],\n",
       "  'number_tweets': 73,\n",
       "  'topic': 9},\n",
       " {'hashtags': [('massacarrara', 140),\n",
       "   ('prato', 77),\n",
       "   ('parlamentari', 11),\n",
       "   ('carrara', 10),\n",
       "   ('viareggio', 9),\n",
       "   ('defalco', 8),\n",
       "   ('gianlucaferrara', 7)],\n",
       "  'number_tweets': 139,\n",
       "  'topic': 4},\n",
       " {'hashtags': [('neve', 31),\n",
       "   ('tuscany', 31),\n",
       "   ('viabilitos', 22),\n",
       "   ('meteo', 16),\n",
       "   ('treni', 16),\n",
       "   ('allertameteotos', 12),\n",
       "   ('pendolaritos', 6)],\n",
       "  'number_tweets': 83,\n",
       "  'topic': 14},\n",
       " {'hashtags': [('vini', 41),\n",
       "   ('jmo18', 35),\n",
       "   ('jmo2018', 22),\n",
       "   ('bio', 15),\n",
       "   ('orbetello', 14),\n",
       "   ('birra', 12),\n",
       "   ('lazio', 11),\n",
       "   ('agrifo', 11),\n",
       "   ('doc', 9),\n",
       "   ('biologico', 9),\n",
       "   ('scansano', 9),\n",
       "   ('snow', 8),\n",
       "   ('pitigliano', 8),\n",
       "   ('mare', 7),\n",
       "   ('terremoto', 7),\n",
       "   ('romagna', 6),\n",
       "   ('sunsettrip', 6),\n",
       "   ('mps', 6)],\n",
       "  'number_tweets': 69,\n",
       "  'topic': 7},\n",
       " {'hashtags': [('livornotimeslive', 26),\n",
       "   ('maratonamentana', 20),\n",
       "   ('lariachetirala7', 19),\n",
       "   ('tuttosocial', 15),\n",
       "   ('basilicata', 14),\n",
       "   ('articolo', 14),\n",
       "   ('civati', 14),\n",
       "   ('campania', 11),\n",
       "   ('mattarella', 11),\n",
       "   ('matteorenzi', 9),\n",
       "   ('dimaio', 8),\n",
       "   ('cecina', 7),\n",
       "   ('rosignano', 7),\n",
       "   ('social', 7),\n",
       "   ('movimento5stelle', 6),\n",
       "   ('molise', 6),\n",
       "   ('mentana', 6),\n",
       "   ('pdnetwork', 6)],\n",
       "  'number_tweets': 87,\n",
       "  'topic': 6},\n",
       " {'hashtags': [('renzi', 152), ('pd', 117)], 'number_tweets': 97, 'topic': 5},\n",
       " {'hashtags': [('elezioni', 55), ('elezionipolitiche2018', 38)],\n",
       "  'number_tweets': 50,\n",
       "  'topic': 10},\n",
       " {'hashtags': [('6marzo', 46),\n",
       "   ('politica', 45),\n",
       "   ('roma', 44),\n",
       "   ('sinistra', 32),\n",
       "   ('lariachetira', 21),\n",
       "   ('salvini', 20),\n",
       "   ('lega', 19),\n",
       "   ('elezionepolitiche2018', 12)],\n",
       "  'number_tweets': 125,\n",
       "  'topic': 3},\n",
       " {'hashtags': [('grosseto', 584)], 'number_tweets': 129, 'topic': 12},\n",
       " {'hashtags': [('maremma', 194)], 'number_tweets': 102, 'topic': 13},\n",
       " {'hashtags': [('m5s', 83)], 'number_tweets': 49, 'topic': 18},\n",
       " {'hashtags': [('primoposto', 165),\n",
       "   ('nonabbiamoarmiinstore', 87),\n",
       "   ('torino', 38),\n",
       "   ('cortona', 30),\n",
       "   ('pontedera', 29),\n",
       "   ('poggibonsi', 29),\n",
       "   ('castiglionfiorentino', 29),\n",
       "   ('vigilidelfuoco', 29),\n",
       "   ('chianciano', 27),\n",
       "   ('comunista', 25),\n",
       "   ('antifascisti', 20),\n",
       "   ('fipili', 17),\n",
       "   ('ilbasketlivorneselive', 16),\n",
       "   ('lavoro', 14),\n",
       "   ('centrisociali', 15),\n",
       "   ('seriec', 14),\n",
       "   ('sottil', 13),\n",
       "   ('piombino', 11),\n",
       "   ('italy', 11),\n",
       "   ('pisanews', 11),\n",
       "   ('seriecgold', 10),\n",
       "   ('cuneo', 10),\n",
       "   ('empoli', 7),\n",
       "   ('basketball', 9),\n",
       "   ('a1', 8),\n",
       "   ('antagonisti', 8),\n",
       "   ('terroristi', 8),\n",
       "   ('8marzo', 8),\n",
       "   ('grazie', 8),\n",
       "   ('livcun', 7),\n",
       "   ('adr', 7),\n",
       "   ('livornodailylive', 6),\n",
       "   ('sciopero', 6),\n",
       "   ('seriecsilver', 6),\n",
       "   ('pioggia', 6),\n",
       "   ('stabilizzaz', 6)],\n",
       "  'number_tweets': 157,\n",
       "  'topic': 1}]"
      ]
     },
     "execution_count": 76,
     "metadata": {},
     "output_type": "execute_result"
    }
   ],
   "source": [
    "output_3"
   ]
  },
  {
   "cell_type": "code",
   "execution_count": 106,
   "metadata": {},
   "outputs": [],
   "source": [
    "lista_dizionari = []\n",
    "\n",
    "for j in range(len(output_3)):\n",
    "    dict_topic_cluster = {}\n",
    "    dict_topic_cluster['name'] = output_3[j]['topic']\n",
    "    lista_topic = []\n",
    "    for idx in range(len(output_3[j]['hashtags'])):\n",
    "        if idx == 0:\n",
    "            dict_topic_cluster['name'] = output_3[j]['hashtags'][idx][0]\n",
    "            if len(output_3[j]['hashtags']) == 1:\n",
    "                lista_topic += [{'name':output_3[j]['hashtags'][idx][0], 'size':output_3[j]['hashtags'][idx][1]}]\n",
    "            \n",
    "        else: \n",
    "            lista_topic += [{'name':output_3[j]['hashtags'][idx][0], 'size':output_3[j]['hashtags'][idx][1]}]\n",
    "        \n",
    "    dict_topic_cluster['children'] = lista_topic[:10]\n",
    "    \n",
    "    lista_dizionari += [dict_topic_cluster]"
   ]
  },
  {
   "cell_type": "code",
   "execution_count": 107,
   "metadata": {},
   "outputs": [],
   "source": [
    "dict_cluster_topic = {'name':'toscana', 'children':lista_dizionari}"
   ]
  },
  {
   "cell_type": "code",
   "execution_count": 123,
   "metadata": {},
   "outputs": [
    {
     "name": "stdout",
     "output_type": "stream",
     "text": [
      "news\n"
     ]
    },
    {
     "data": {
      "text/plain": [
       "{'children': [{'name': 'nonabbiamoarmiinstore', 'size': 87},\n",
       "  {'name': 'torino', 'size': 38},\n",
       "  {'name': 'cortona', 'size': 30},\n",
       "  {'name': 'pontedera', 'size': 29},\n",
       "  {'name': 'poggibonsi', 'size': 29},\n",
       "  {'name': 'castiglionfiorentino', 'size': 29},\n",
       "  {'name': 'vigilidelfuoco', 'size': 29},\n",
       "  {'name': 'chianciano', 'size': 27},\n",
       "  {'name': 'comunista', 'size': 25},\n",
       "  {'name': 'antifascisti', 'size': 20}],\n",
       " 'name': 'primoposto'}"
      ]
     },
     "execution_count": 123,
     "metadata": {},
     "output_type": "execute_result"
    }
   ],
   "source": [
    "print (dict_cluster_topic['children'][0]['name'])\n",
    "# Distringui tra name e children\n",
    "dict_cluster_topic['children'][19]"
   ]
  },
  {
   "cell_type": "code",
   "execution_count": 124,
   "metadata": {},
   "outputs": [],
   "source": [
    "with open('../data/output/bubble_input.json', 'w') as fp:\n",
    "    json.dump(dict_cluster_topic, fp)"
   ]
  },
  {
   "cell_type": "code",
   "execution_count": null,
   "metadata": {},
   "outputs": [],
   "source": []
  }
 ],
 "metadata": {
  "kernelspec": {
   "display_name": "Python 3",
   "language": "python",
   "name": "python3"
  },
  "language_info": {
   "codemirror_mode": {
    "name": "ipython",
    "version": 3
   },
   "file_extension": ".py",
   "mimetype": "text/x-python",
   "name": "python",
   "nbconvert_exporter": "python",
   "pygments_lexer": "ipython3",
   "version": "3.6.4"
  }
 },
 "nbformat": 4,
 "nbformat_minor": 2
}
