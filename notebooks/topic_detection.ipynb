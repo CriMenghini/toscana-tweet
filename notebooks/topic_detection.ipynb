{
 "cells": [
  {
   "cell_type": "code",
   "execution_count": 1,
   "metadata": {},
   "outputs": [],
   "source": [
    "import json\n",
    "import operator\n",
    "import numpy as np\n",
    "import pandas as pd\n",
    "import networkx as nx\n",
    "import collections,sys,math \n",
    "import matplotlib.pyplot as plt\n",
    "from collections import defaultdict\n",
    "%matplotlib inline"
   ]
  },
  {
   "cell_type": "code",
   "execution_count": 2,
   "metadata": {},
   "outputs": [],
   "source": [
    "# Load data\n",
    "data = json.load(open('../data/raw/tweet.json'))"
   ]
  },
  {
   "cell_type": "markdown",
   "metadata": {},
   "source": [
    "# Utils.py"
   ]
  },
  {
   "cell_type": "code",
   "execution_count": 3,
   "metadata": {},
   "outputs": [],
   "source": [
    "def get_user_attr(id_, dictionary_tweet, tweet, attr, user = True):\n",
    "    \"\"\"the function return the attr of the tweet and put it in the dictionary related to the tweet\n",
    "    @tweet_id: id \n",
    "    @dictionary_to_update: dictionary (key,value):(tweet_id, (key,value):(attr,value))\n",
    "    @tweet: who tweet\"\"\"\n",
    "    \n",
    "    if user:\n",
    "         dictionary_tweet[id_][attr] = tweet['user'][attr]\n",
    "    else:\n",
    "        dictionary_tweet[id_][attr] = tweet[attr]\n",
    "        \n",
    "    return dictionary_tweet"
   ]
  },
  {
   "cell_type": "code",
   "execution_count": 4,
   "metadata": {},
   "outputs": [],
   "source": [
    "def FindHashHags(tweet):\n",
    "    \"\"\"\n",
    "    This function takes the twittersearch output tweet,\n",
    "    cleans up the text and the format, and returns\n",
    "    the set of all hashtags in the tweet\n",
    "    \"\"\"\n",
    "    # First get the tweet text\n",
    "    tweettxt = str(tweet.encode('ascii','ignore'))\n",
    "    \n",
    "    # Add spacing before the hashtag symbol\n",
    "    tweettxt = tweettxt.replace('#',' #')\n",
    "    \n",
    "    # Clean all punctuation \n",
    "    for punct in '\\.!\",;:%<>/~@`()[]{}?-':\n",
    "        tweettxt = tweettxt.replace(punct,' ')\n",
    "    \n",
    "    # Split the tweet \n",
    "    tweettxt = tweettxt.split()\n",
    "    \n",
    "    # List of hashtags\n",
    "    hashtags = []\n",
    "    # Loop over the words in the tweet\n",
    "    for word in tweettxt:\n",
    "        # Find words beginning with hashtag\n",
    "        if word[0]=='#':\n",
    "\n",
    "            hashtag = word.lower()\n",
    "            # Correct for possisives\n",
    "            hashtag= hashtag.split('\\'')[0]         \n",
    "            \n",
    "            # Get rid of the hashtag symbol\n",
    "            hashtag = hashtag.replace('#','')\n",
    "            # Check existence of word after #\n",
    "            if len(hashtag)>0:\n",
    "                hashtags.append(hashtag)\n",
    "    \n",
    "    return hashtags"
   ]
  },
  {
   "cell_type": "markdown",
   "metadata": {},
   "source": [
    "### Create dictionary of tweets that gathers also information about user "
   ]
  },
  {
   "cell_type": "code",
   "execution_count": 5,
   "metadata": {},
   "outputs": [],
   "source": [
    "dictionary_tweet = {}\n",
    "list_attr_user = ['description','favourites_count','followers_count','friends_count','location','screen_name']\n",
    "list_attr = ['text', 'retweeted']\n",
    "\n",
    "for t in data:\n",
    "    id_ = t['id']\n",
    "    dictionary_tweet[id_] = {}\n",
    "    \n",
    "    # Extract attribute related to the tweet\n",
    "    for attr in list_attr:\n",
    "        dictionary_tweet = get_user_attr(id_, dictionary_tweet, t, attr, user = False)\n",
    "    \n",
    "    # Get info of the user \n",
    "    for attr in list_attr_user:\n",
    "        dictionary_tweet = get_user_attr(id_, dictionary_tweet, t, attr)"
   ]
  },
  {
   "cell_type": "code",
   "execution_count": 6,
   "metadata": {},
   "outputs": [
    {
     "name": "stdout",
     "output_type": "stream",
     "text": [
      "We collected:  4395  including retweets.\n"
     ]
    }
   ],
   "source": [
    "print (\"We collected: \", len(dictionary_tweet), \" including retweets.\")"
   ]
  },
  {
   "cell_type": "markdown",
   "metadata": {},
   "source": [
    "### Get the list of hashtags found in the collection of tweets"
   ]
  },
  {
   "cell_type": "code",
   "execution_count": 7,
   "metadata": {},
   "outputs": [],
   "source": [
    "list_hashtags = []\n",
    "\n",
    "# Dizionari che definisce per ogni tweet la lista degli hashtag\n",
    "hashtags_dict = defaultdict(list)\n",
    "\n",
    "# For each tweet\n",
    "for id_ in dictionary_tweet:\n",
    "    # Define the list of hashtags\n",
    "    list_h = FindHashHags(dictionary_tweet[id_]['text'])\n",
    "    hashtags_dict[id_] += list_h\n",
    "    list_hashtags += list_h\n",
    "    \n",
    "# List of hashtags\n",
    "non_set = list_hashtags\n",
    "# Set of hashtags\n",
    "list_hashtags = list(set(list_hashtags))"
   ]
  },
  {
   "cell_type": "code",
   "execution_count": 8,
   "metadata": {},
   "outputs": [
    {
     "name": "stdout",
     "output_type": "stream",
     "text": [
      "Il numero di hashtag, non unici, contenuti nei tweet è 9190 .\n",
      "Il numero di hashtag unici è:  1104 .\n"
     ]
    }
   ],
   "source": [
    "print (\"Il numero di hashtag, non unici, contenuti nei tweet è\", len(non_set), '.')\n",
    "print (\"Il numero di hashtag unici è: \", len(list_hashtags), '.')"
   ]
  },
  {
   "cell_type": "markdown",
   "metadata": {},
   "source": [
    "### Study the hashtag frequency to choose the hashtags to include in the analysis\n",
    "\n",
    "Idealmente, vogliamo effettuare la nostra analisi su hashtag significativi. Pertanto decidiamo un threshold euristico."
   ]
  },
  {
   "cell_type": "code",
   "execution_count": 9,
   "metadata": {},
   "outputs": [],
   "source": [
    "count_hashtags = defaultdict(int)\n",
    "for i in non_set:\n",
    "    count_hashtags[i] += 1"
   ]
  },
  {
   "cell_type": "markdown",
   "metadata": {},
   "source": [
    "In particolare osserviamo che la media e la mediana della collezione di tweet differiscono significativamente. Nello specifico la media è circa 9 volte più alta della mediana che, al contrario, indica che almeno il 50% degli hashtag compare solo una volta nei tweet di interesse.\n",
    "\n",
    "\n",
    "* Si decide di considerare gli hashtag la cui frequenza è maggiore di 5 e il cui numero di caratteri è superiore a 1."
   ]
  },
  {
   "cell_type": "code",
   "execution_count": 10,
   "metadata": {},
   "outputs": [],
   "source": [
    "revome_one_hash = {i:j for i,j in count_hashtags.items() if j > 5 and len(i)>1}\n",
    "list_hashtags = list(revome_one_hash.keys())"
   ]
  },
  {
   "cell_type": "markdown",
   "metadata": {},
   "source": [
    "Quindi vediamo quanti sono gli hashtag identificati come significativi per l'identificazione degli argomenti. "
   ]
  },
  {
   "cell_type": "code",
   "execution_count": 11,
   "metadata": {},
   "outputs": [
    {
     "name": "stdout",
     "output_type": "stream",
     "text": [
      "Numero di hashtag significativi:  157 .\n"
     ]
    }
   ],
   "source": [
    "print (\"Numero di hashtag significativi: \", len(list_hashtags), '.')"
   ]
  },
  {
   "cell_type": "markdown",
   "metadata": {},
   "source": [
    "### Definire nuovamente il dizionario tweet>lista di hashtag in accordo con gli hashtag rimasti"
   ]
  },
  {
   "cell_type": "code",
   "execution_count": 12,
   "metadata": {},
   "outputs": [],
   "source": [
    "hashtags_dict = {i: [k for k in j if k in list_hashtags] for i,j in hashtags_dict.items()}"
   ]
  },
  {
   "cell_type": "markdown",
   "metadata": {},
   "source": [
    "* Definisci, per ogni hashtag, la lista di tweet che lo contiene"
   ]
  },
  {
   "cell_type": "code",
   "execution_count": 13,
   "metadata": {},
   "outputs": [],
   "source": [
    "dict_hashtag = defaultdict(list)\n",
    "#list_id_toscana = []\n",
    "for tag in list_hashtags:\n",
    "    for i, l in hashtags_dict.items():\n",
    "        if tag in l:\n",
    "            dict_hashtag[tag] += [i]"
   ]
  },
  {
   "cell_type": "markdown",
   "metadata": {},
   "source": [
    "* Per ogni hashtag ottieni la lista degli hashtag con cui co-occorre."
   ]
  },
  {
   "cell_type": "code",
   "execution_count": 14,
   "metadata": {},
   "outputs": [],
   "source": [
    "dict_list_hashtag = defaultdict(list)\n",
    "#list_id_toscana = []\n",
    "for tag in list_hashtags:\n",
    "    for i, l in hashtags_dict.items():\n",
    "        if tag in l:\n",
    "            dict_list_hashtag[tag] += [j for j in l if j!=tag and j in list_hashtags]"
   ]
  },
  {
   "cell_type": "markdown",
   "metadata": {},
   "source": [
    "### Identificare i retweet e rimuoverli (questa sezione verrà modificata molto probabilmente)"
   ]
  },
  {
   "cell_type": "code",
   "execution_count": 17,
   "metadata": {},
   "outputs": [
    {
     "data": {
      "text/html": [
       "<div>\n",
       "<style scoped>\n",
       "    .dataframe tbody tr th:only-of-type {\n",
       "        vertical-align: middle;\n",
       "    }\n",
       "\n",
       "    .dataframe tbody tr th {\n",
       "        vertical-align: top;\n",
       "    }\n",
       "\n",
       "    .dataframe thead th {\n",
       "        text-align: right;\n",
       "    }\n",
       "</style>\n",
       "<table border=\"1\" class=\"dataframe\">\n",
       "  <thead>\n",
       "    <tr style=\"text-align: right;\">\n",
       "      <th></th>\n",
       "      <th>ID</th>\n",
       "      <th>TEXT</th>\n",
       "    </tr>\n",
       "  </thead>\n",
       "  <tbody>\n",
       "    <tr>\n",
       "      <th>0</th>\n",
       "      <td>970993648392220672</td>\n",
       "      <td>Qualità dell'#aria: i dati rilevati il #5marzo...</td>\n",
       "    </tr>\n",
       "    <tr>\n",
       "      <th>1</th>\n",
       "      <td>970993502669692928</td>\n",
       "      <td>RT @Laura_Rocci: #Toscana\\nIl @Mov5Stelle piaz...</td>\n",
       "    </tr>\n",
       "    <tr>\n",
       "      <th>2</th>\n",
       "      <td>970993070480199681</td>\n",
       "      <td>Bollettino Meteo https://t.co/SLPL8bu3NL 2018-...</td>\n",
       "    </tr>\n",
       "    <tr>\n",
       "      <th>3</th>\n",
       "      <td>970989949993603072</td>\n",
       "      <td>RT @LetsCleanUpEU: #fishingforlitter in #Tosca...</td>\n",
       "    </tr>\n",
       "    <tr>\n",
       "      <th>4</th>\n",
       "      <td>970989844267786240</td>\n",
       "      <td>RT @Laura_Rocci: #Toscana\\nIl @Mov5Stelle piaz...</td>\n",
       "    </tr>\n",
       "  </tbody>\n",
       "</table>\n",
       "</div>"
      ],
      "text/plain": [
       "                   ID                                               TEXT\n",
       "0  970993648392220672  Qualità dell'#aria: i dati rilevati il #5marzo...\n",
       "1  970993502669692928  RT @Laura_Rocci: #Toscana\\nIl @Mov5Stelle piaz...\n",
       "2  970993070480199681  Bollettino Meteo https://t.co/SLPL8bu3NL 2018-...\n",
       "3  970989949993603072  RT @LetsCleanUpEU: #fishingforlitter in #Tosca...\n",
       "4  970989844267786240  RT @Laura_Rocci: #Toscana\\nIl @Mov5Stelle piaz..."
      ]
     },
     "execution_count": 17,
     "metadata": {},
     "output_type": "execute_result"
    }
   ],
   "source": [
    "list_tweet = list(dictionary_tweet.keys())\n",
    "# List of tweet contents\n",
    "list_text_tweets = [(idx,dictionary_tweet[idx]['text']) for idx in list_tweet]\n",
    "\n",
    "# \n",
    "df_tweets = pd.DataFrame(list_text_tweets, columns=['ID', 'TEXT'])\n",
    "df_tweets.head()"
   ]
  },
  {
   "cell_type": "code",
   "execution_count": 18,
   "metadata": {},
   "outputs": [
    {
     "name": "stdout",
     "output_type": "stream",
     "text": [
      "Il numero finale dei tweet da analizzare è:  2016 .\n"
     ]
    }
   ],
   "source": [
    "# Remove http elements in text\n",
    "df_tweets['mod_TEXT'] = df_tweets['TEXT'].apply(lambda x: ' '.join([i for i in x.split(' ') if not i.startswith('http')]))\n",
    "\n",
    "# Get rid of duplicates\n",
    "df_tweets.drop_duplicates(['mod_TEXT'], keep = 'first', inplace=True)\n",
    "\n",
    "# Remove the RT from text\n",
    "df_tweets['mod_RT'] = df_tweets['mod_TEXT'].apply(lambda x: ' '.join(x.split(':')[1:]).strip() if x.startswith('RT') else ' '.join(x.split(':')).strip())\n",
    "\n",
    "# Get rid of duplicates\n",
    "df_tweets.drop_duplicates(['mod_RT'], keep = 'first', inplace=True)\n",
    "\n",
    "print (\"Il numero finale dei tweet da analizzare è: \", len(df_tweets), '.')"
   ]
  },
  {
   "cell_type": "markdown",
   "metadata": {},
   "source": [
    "## Operazione di clustering per trovare gli argomenti\n",
    "\n",
    "__Goal:__\n",
    "\n",
    "Find groups of tweets that belongs to the same topic (allowing that a tweet corresponds to more than one cluster).\n",
    "\n",
    "* Topic: set of hashtags - we make this assumption since has been shown that they are good proxy of topics.\n",
    "* We build the graph of hashtags that are connected when they co-occur in a tweet.\n",
    "* Apply the PCA.\n",
    "* Run a hierarchical clustering algorithm.\n",
    "* Then we associate tweets to the clusters."
   ]
  },
  {
   "cell_type": "code",
   "execution_count": 19,
   "metadata": {},
   "outputs": [],
   "source": [
    "# Edges of the graph - co-occurences\n",
    "tuples_hash = []\n",
    "for i,l in dict_list_hashtag.items():\n",
    "    for h,times in collections.Counter(l).items():\n",
    "        tuples_hash += [(i,h, times)]"
   ]
  },
  {
   "cell_type": "markdown",
   "metadata": {},
   "source": [
    "# PROVA a togliere l'occorrenza"
   ]
  },
  {
   "cell_type": "code",
   "execution_count": 20,
   "metadata": {},
   "outputs": [],
   "source": [
    "tuples_hash = [(i,j) for i,j,k in tuples_hash]# if k != 1]"
   ]
  },
  {
   "cell_type": "code",
   "execution_count": 21,
   "metadata": {},
   "outputs": [],
   "source": [
    "# Con Jaccard\n",
    "# La presenza di zeri dipende dall'operazione nella cella [31]. Da correggere\n",
    "tuples_weights = []\n",
    "for h_1, h_2 in tuples_hash:\n",
    "    inter = len(set(dict_list_hashtag[h_1]).intersection(dict_list_hashtag[h_2]))\n",
    "    unio = len(set(dict_list_hashtag[h_1]).union(dict_list_hashtag[h_2]))\n",
    "    jacc_distance = 1-(inter/unio)\n",
    "    tuples_weights += [(h_1,h_2,jacc_distance)]\n",
    "    #tuples_weights += [(h_1,h_2,inter)]"
   ]
  },
  {
   "cell_type": "markdown",
   "metadata": {},
   "source": [
    "### Create graph of hashtags"
   ]
  },
  {
   "cell_type": "code",
   "execution_count": 22,
   "metadata": {},
   "outputs": [
    {
     "name": "stdout",
     "output_type": "stream",
     "text": [
      "Name: \n",
      "Type: Graph\n",
      "Number of nodes: 157\n",
      "Number of edges: 670\n",
      "Average degree:   8.5350\n"
     ]
    }
   ],
   "source": [
    "G = nx.Graph()\n",
    "G.add_weighted_edges_from(tuples_weights)\n",
    "print (nx.info(G))"
   ]
  },
  {
   "cell_type": "code",
   "execution_count": 23,
   "metadata": {},
   "outputs": [],
   "source": [
    "# Assign id\n",
    "id_hash = {i:j for i,j in enumerate(list_hashtags)}\n",
    "hash_id = {j:i for i,j in id_hash.items()}"
   ]
  },
  {
   "cell_type": "markdown",
   "metadata": {},
   "source": [
    "### Get the adjecency matrix"
   ]
  },
  {
   "cell_type": "code",
   "execution_count": 24,
   "metadata": {},
   "outputs": [],
   "source": [
    "adjacency_matrix = nx.to_numpy_matrix(G)"
   ]
  },
  {
   "cell_type": "code",
   "execution_count": 25,
   "metadata": {},
   "outputs": [
    {
     "data": {
      "text/plain": [
       "PCA(copy=True, iterated_power='auto', n_components=None, random_state=None,\n",
       "  svd_solver='auto', tol=0.0, whiten=False)"
      ]
     },
     "execution_count": 25,
     "metadata": {},
     "output_type": "execute_result"
    }
   ],
   "source": [
    "import numpy as np\n",
    "from sklearn.decomposition import PCA\n",
    "X = adjacency_matrix\n",
    "pca = PCA()\n",
    "pca.fit(X)"
   ]
  },
  {
   "cell_type": "code",
   "execution_count": 26,
   "metadata": {},
   "outputs": [
    {
     "data": {
      "text/plain": [
       "(0, 30)"
      ]
     },
     "execution_count": 26,
     "metadata": {},
     "output_type": "execute_result"
    },
    {
     "data": {
      "image/png": "[encoded data removed]",
      "text/plain": [
       "<matplotlib.figure.Figure at 0x1a1afdbe48>"
      ]
     },
     "metadata": {},
     "output_type": "display_data"
    }
   ],
   "source": [
    "variance = pca.explained_variance_ratio_\n",
    "plt.plot(np.cumsum(variance))\n",
    "plt.xlim((0,30))"
   ]
  },
  {
   "cell_type": "markdown",
   "metadata": {},
   "source": [
    "### Choose the number of components and apply the dimensionality reduction"
   ]
  },
  {
   "cell_type": "code",
   "execution_count": 27,
   "metadata": {},
   "outputs": [
    {
     "data": {
      "text/plain": [
       "PCA(copy=True, iterated_power='auto', n_components=30, random_state=None,\n",
       "  svd_solver='arpack', tol=0.0, whiten=False)"
      ]
     },
     "execution_count": 27,
     "metadata": {},
     "output_type": "execute_result"
    }
   ],
   "source": [
    "X = adjacency_matrix\n",
    "pca = PCA(n_components=30,svd_solver = 'arpack' )\n",
    "pca.fit(X) "
   ]
  },
  {
   "cell_type": "code",
   "execution_count": 28,
   "metadata": {},
   "outputs": [],
   "source": [
    "dimensionality_reduction = pca.fit_transform(X)"
   ]
  },
  {
   "cell_type": "markdown",
   "metadata": {},
   "source": [
    "## Hierarchical clustering\n",
    "\n",
    "* __Linkage__: Ward\n",
    "* __Metric__: Euclidean"
   ]
  },
  {
   "cell_type": "code",
   "execution_count": 29,
   "metadata": {},
   "outputs": [],
   "source": [
    "from scipy.cluster.hierarchy import dendrogram, linkage"
   ]
  },
  {
   "cell_type": "code",
   "execution_count": 30,
   "metadata": {},
   "outputs": [],
   "source": [
    "np.set_printoptions(precision=5, suppress=True)\n",
    "Z = linkage(dimensionality_reduction, 'ward', metric = 'euclidean')"
   ]
  },
  {
   "cell_type": "code",
   "execution_count": 31,
   "metadata": {},
   "outputs": [],
   "source": [
    "from scipy.cluster.hierarchy import cophenet\n",
    "from scipy.spatial.distance import pdist"
   ]
  },
  {
   "cell_type": "code",
   "execution_count": 32,
   "metadata": {},
   "outputs": [
    {
     "data": {
      "image/png": "[encoded data removed]",
      "text/plain": [
       "<matplotlib.figure.Figure at 0x1a25610320>"
      ]
     },
     "metadata": {},
     "output_type": "display_data"
    }
   ],
   "source": [
    "plt.figure(figsize=(25, 10))\n",
    "plt.title('Hierarchical Clustering Dendrogram')\n",
    "plt.xlabel('sample index')\n",
    "plt.ylabel('distance')\n",
    "dendrogram(\n",
    "    Z,\n",
    "    leaf_rotation=90.,  # rotates the x axis labels\n",
    "    leaf_font_size=8.,  # font size for the x axis labels\n",
    ")\n",
    "plt.show()"
   ]
  },
  {
   "cell_type": "code",
   "execution_count": 33,
   "metadata": {},
   "outputs": [
    {
     "data": {
      "text/plain": [
       "([<matplotlib.axis.XTick at 0x1a2584e588>,\n",
       "  <matplotlib.axis.XTick at 0x1a2584ee48>,\n",
       "  <matplotlib.axis.XTick at 0x1a248bcdd8>,\n",
       "  <matplotlib.axis.XTick at 0x1a248cae48>,\n",
       "  <matplotlib.axis.XTick at 0x1a1afe6748>,\n",
       "  <matplotlib.axis.XTick at 0x1a1afe6cf8>,\n",
       "  <matplotlib.axis.XTick at 0x1519eae160>,\n",
       "  <matplotlib.axis.XTick at 0x1519eab518>],\n",
       " <a list of 8 Text xticklabel objects>)"
      ]
     },
     "execution_count": 33,
     "metadata": {},
     "output_type": "execute_result"
    },
    {
     "data": {
      "image/png": "[encoded data removed]",
      "text/plain": [
       "<matplotlib.figure.Figure at 0x1a25881e48>"
      ]
     },
     "metadata": {},
     "output_type": "display_data"
    }
   ],
   "source": [
    "plt.plot(sorted(Z[:,2], reverse =True))\n",
    "plt.xlabel('Num of clusters')\n",
    "plt.xticks(range(1,160, 20),range(0,200, 20))"
   ]
  },
  {
   "cell_type": "code",
   "execution_count": 34,
   "metadata": {},
   "outputs": [
    {
     "data": {
      "text/plain": [
       "AgglomerativeClustering(affinity='euclidean', compute_full_tree='auto',\n",
       "            connectivity=None, linkage='ward', memory=None, n_clusters=20,\n",
       "            pooling_func=<function mean at 0x10f874510>)"
      ]
     },
     "execution_count": 34,
     "metadata": {},
     "output_type": "execute_result"
    }
   ],
   "source": [
    "from sklearn.cluster import AgglomerativeClustering\n",
    "Hclustering = AgglomerativeClustering(n_clusters=20, affinity='euclidean', linkage=\"ward\")\n",
    "Hclustering.fit(dimensionality_reduction)"
   ]
  },
  {
   "cell_type": "code",
   "execution_count": 35,
   "metadata": {},
   "outputs": [],
   "source": [
    "prova = Hclustering.fit_predict(dimensionality_reduction)"
   ]
  },
  {
   "cell_type": "markdown",
   "metadata": {},
   "source": [
    "### Clusters"
   ]
  },
  {
   "cell_type": "code",
   "execution_count": 36,
   "metadata": {},
   "outputs": [],
   "source": [
    "classes = list(zip(G.nodes(),prova))\n",
    "h_class = {i:j for i,j in classes}"
   ]
  },
  {
   "cell_type": "code",
   "execution_count": 37,
   "metadata": {},
   "outputs": [],
   "source": [
    "# For each cluster: the list of hashtags in it\n",
    "di_clas = defaultdict(list)\n",
    "for i,j in classes:\n",
    "    di_clas[j] += [i]"
   ]
  },
  {
   "cell_type": "code",
   "execution_count": 38,
   "metadata": {},
   "outputs": [],
   "source": [
    "# For each cluster: the number of hashtags\n",
    "di = defaultdict(int)\n",
    "for i in prova:\n",
    "    di[i] += 1"
   ]
  },
  {
   "cell_type": "markdown",
   "metadata": {},
   "source": [
    "### Smistare i tweet nei cluster"
   ]
  },
  {
   "cell_type": "markdown",
   "metadata": {},
   "source": [
    "Per ogni tweet si calcola la proporzione di hashtag appartenenti alle classi individuate. Quindi, il tweet appartiene alla classe cui la maggior parte dei sui tweet appartiene. Nello specifico, nel caaso in cui ci sia una stessa proporzione per tutti i cluster, allora il tweet apparterrà a tutte e tre le classi."
   ]
  },
  {
   "cell_type": "code",
   "execution_count": 39,
   "metadata": {},
   "outputs": [],
   "source": [
    "# Assign the tweets to clusters\n",
    "tweets_in_class = defaultdict(list)\n",
    "for c in di.keys():\n",
    "    for i in di_clas[c]:\n",
    "        tweets_in_class[c] += dict_hashtag[i]\n",
    "        \n",
    "set_tweets_class = {c: list(set(l)) for c,l in tweets_in_class.items()}\n",
    "    "
   ]
  },
  {
   "cell_type": "code",
   "execution_count": 40,
   "metadata": {},
   "outputs": [],
   "source": [
    "# Per ogni classe il set degli hashtag trovati nei tweet\n",
    "list_hash_class = defaultdict(list)\n",
    "\n",
    "for c, l_t in set_tweets_class.items():\n",
    "    for t in l_t:\n",
    "        list_hash_class[c] += hashtags_dict[t]\n",
    "        \n",
    "set_hash_class = {i:list(set(j)) for i,j in list_hash_class.items()}"
   ]
  },
  {
   "cell_type": "markdown",
   "metadata": {},
   "source": [
    "* Per ogni tweet, calcolare la proporzione di hashtag in ogni classe"
   ]
  },
  {
   "cell_type": "code",
   "execution_count": 41,
   "metadata": {},
   "outputs": [],
   "source": [
    "dict_tweet_prop_class = {}\n",
    "for tweet in list_tweet:\n",
    "    \n",
    "    list_hash_tweet = hashtags_dict[tweet]\n",
    "    if len(list_hash_tweet)==0:\n",
    "        continue\n",
    "    \n",
    "    dict_tweet_prop_class[tweet] = {}\n",
    "    for c in di.keys():\n",
    "        proportion_hashtag = len(set(list_hash_tweet).intersection(set(di_clas[c])))/len(set(list_hash_tweet))\n",
    "        if proportion_hashtag != 0: \n",
    "            dict_tweet_prop_class[tweet][c] = proportion_hashtag"
   ]
  },
  {
   "cell_type": "markdown",
   "metadata": {},
   "source": [
    "* Assegnare tweet a classe"
   ]
  },
  {
   "cell_type": "code",
   "execution_count": 42,
   "metadata": {},
   "outputs": [],
   "source": [
    "tweet_belongs_to = {}\n",
    "\n",
    "for tweet, clas in dict_tweet_prop_class.items():\n",
    "    \n",
    "    if tweet in df_tweets['ID'].unique():\n",
    "        if len(set(list(clas.values()))) > 1:\n",
    "            tweet_belongs_to[tweet] = [max(clas.items(), key=operator.itemgetter(1))[0]]\n",
    "\n",
    "        elif len(set(list(clas.values()))) == 1:\n",
    "            tweet_belongs_to[tweet] = list(clas.keys())"
   ]
  },
  {
   "cell_type": "code",
   "execution_count": 43,
   "metadata": {},
   "outputs": [],
   "source": [
    "# To each class associate the list of tweets\n",
    "class_of_tweets = defaultdict(list)\n",
    "for tweet, c in tweet_belongs_to.items():\n",
    "    for el in c:\n",
    "        class_of_tweets[el] += [tweet]"
   ]
  },
  {
   "cell_type": "code",
   "execution_count": 44,
   "metadata": {},
   "outputs": [
    {
     "name": "stdout",
     "output_type": "stream",
     "text": [
      "8 129\n",
      "15 96\n",
      "4 139\n",
      "14 83\n",
      "7 69\n",
      "17 418\n",
      "6 87\n",
      "16 70\n",
      "2 154\n",
      "19 289\n",
      "0 114\n",
      "1 157\n",
      "5 97\n",
      "10 50\n",
      "3 125\n",
      "9 73\n",
      "18 49\n",
      "11 271\n",
      "13 102\n",
      "12 129\n"
     ]
    }
   ],
   "source": [
    "for i,j in class_of_tweets.items():\n",
    "    print (i,len(set(j)))"
   ]
  },
  {
   "cell_type": "markdown",
   "metadata": {},
   "source": [
    "# Primo file di output\n",
    "\n",
    "Per ogni topi rappresento la top 10 di hashtag e il numero di tweet corrispondenti"
   ]
  },
  {
   "cell_type": "code",
   "execution_count": 49,
   "metadata": {},
   "outputs": [],
   "source": [
    "output = []\n",
    "for cluster, list_hash in di_clas.items():\n",
    "    dictionary = {}\n",
    "    dictionary['topic'] = int(cluster)\n",
    "    dict_ha = {i: count_hashtags[i] for i in list_hash}\n",
    "    dictionary['hashtags'] = [(i,count_hashtags[i]) for i in sorted(dict_ha, key=dict_ha.get, reverse=True)]\n",
    "    dictionary['number_tweets'] = len(set(class_of_tweets[cluster]))\n",
    "    \n",
    "    output += [dictionary]"
   ]
  },
  {
   "cell_type": "code",
   "execution_count": 50,
   "metadata": {},
   "outputs": [],
   "source": [
    "with open('../data/output/topic_squares.json', 'w') as fp:\n",
    "    json.dump(output, fp)"
   ]
  },
  {
   "cell_type": "markdown",
   "metadata": {},
   "source": [
    "# Secondo file output"
   ]
  },
  {
   "cell_type": "code",
   "execution_count": 51,
   "metadata": {},
   "outputs": [],
   "source": [
    "output_2 = []\n",
    "for cluster, list_hash in di_clas.items():\n",
    "    dictionary = {}\n",
    "    dictionary['topic'] = int(cluster)\n",
    "    dictionary['list_tweets'] = class_of_tweets[cluster]\n",
    "    output_2 += [dictionary]"
   ]
  },
  {
   "cell_type": "code",
   "execution_count": 52,
   "metadata": {},
   "outputs": [],
   "source": [
    "with open('../data/output/tweet_list.json', 'w') as fp:\n",
    "    json.dump(output_2, fp)"
   ]
  }
 ],
 "metadata": {
  "kernelspec": {
   "display_name": "Python 3",
   "language": "python",
   "name": "python3"
  },
  "language_info": {
   "codemirror_mode": {
    "name": "ipython",
    "version": 3
   },
   "file_extension": ".py",
   "mimetype": "text/x-python",
   "name": "python",
   "nbconvert_exporter": "python",
   "pygments_lexer": "ipython3",
   "version": "3.6.4"
  }
 },
 "nbformat": 4,
 "nbformat_minor": 2
}
