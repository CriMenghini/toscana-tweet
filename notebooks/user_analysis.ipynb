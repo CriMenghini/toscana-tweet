{
 "cells": [
  {
   "cell_type": "code",
   "execution_count": 42,
   "metadata": {},
   "outputs": [],
   "source": [
    "#Import the necessary methods from tweepy library\n",
    "from tweepy.streaming import StreamListener\n",
    "from tweepy import OAuthHandler\n",
    "from tweepy import Stream\n",
    "\n",
    "##\n",
    "from TwitterSearch import *\n",
    "import matplotlib.pyplot as plt\n",
    "import collections,sys,math \n",
    "\n",
    "##\n",
    "import json\n",
    "from collections import defaultdict\n",
    "import networkx as nx\n",
    "import numpy as np"
   ]
  },
  {
   "cell_type": "code",
   "execution_count": 43,
   "metadata": {},
   "outputs": [],
   "source": [
    "data = json.load(open('outputfile.json'))"
   ]
  },
  {
   "cell_type": "markdown",
   "metadata": {},
   "source": [
    "# Top 10 reweet"
   ]
  },
  {
   "cell_type": "code",
   "execution_count": 44,
   "metadata": {},
   "outputs": [],
   "source": [
    "data_small = []\n",
    "dictionary_retweet = {}\n",
    "for t in range(len(data)):\n",
    "    n_retweet = data[t]['retweet_count']\n",
    "    \n",
    "    if n_retweet > 0:\n",
    "        try:\n",
    "            dictionary_retweet[data[t]['retweeted_status']['id']] = n_retweet\n",
    "        except:\n",
    "            dictionary_retweet[data[t]['id']] = n_retweet\n",
    "            \n",
    "        data_small += [data[t]]"
   ]
  },
  {
   "cell_type": "code",
   "execution_count": 45,
   "metadata": {},
   "outputs": [],
   "source": [
    "top_10 = [w for w in sorted(dictionary_retweet, key=dictionary_retweet.get, reverse=True)[:10]]\n",
    "   # print (w, dictionary_retweet[w])"
   ]
  },
  {
   "cell_type": "code",
   "execution_count": 46,
   "metadata": {},
   "outputs": [],
   "source": [
    "find_id = []\n",
    "tweets = []\n",
    "\n",
    "for i in range(len(data_small)):\n",
    "    if len(set(find_id)) < 10:\n",
    "        try:\n",
    "            if data_small[i]['retweeted_status']['id'] in top_10:\n",
    "         \n",
    "                if data_small[i]['retweeted_status']['id'] not in find_id:\n",
    "                    find_id += [data_small[i]['retweeted_status']['id']]\n",
    "                    tweets += [(data_small[i]['text'], data_small[i]['retweet_count'], data_small[i]['retweeted_status']['user']['name'], data_small[i]['retweeted_status']['user']['id'], data_small[i]['retweeted_status']['user']['followers_count'], data_small[i]['retweeted_status']['user']['friends_count'])]\n",
    "        except:\n",
    "            if data_small[i]['id'] in top_10:\n",
    "                if data_small[i]['id'] not in find_id:\n",
    "                    find_id += [data_small[i]['id']]\n",
    "                    tweets += [(data_small[i]['text'], data_small[i]['retweet_count'], data_small[i]['user']['name'], data_small[i]['user']['id'], data_small[i]['user']['followers_count'], data_small[i]['user']['friends_count'])]\n",
    "    else: break"
   ]
  },
  {
   "cell_type": "code",
   "execution_count": 47,
   "metadata": {},
   "outputs": [],
   "source": [
    "retweet_output_dict = {}\n",
    "for t, rt, u, uid, fol, frien in tweets:\n",
    "    retweet_output_dict[t] = {}\n",
    "    retweet_output_dict[t]['num_RT'] = rt\n",
    "    retweet_output_dict[t]['user'] = u\n",
    "    retweet_output_dict[t]['user_id'] = uid\n",
    "    retweet_output_dict[t]['user_followers'] = fol\n",
    "    retweet_output_dict[t]['user_friends'] = frien"
   ]
  },
  {
   "cell_type": "code",
   "execution_count": 48,
   "metadata": {},
   "outputs": [
    {
     "data": {
      "text/plain": [
       "{'RT @GianniCuperIoPD: Dopo il discorso di #Renzi abbiamo perso un altro 5%.\\n#elezioni2018': {'num_RT': 701,\n",
       "  'user': 'Gianni Kuperlo',\n",
       "  'user_followers': 36159,\n",
       "  'user_friends': 1695,\n",
       "  'user_id': 1566553698},\n",
       " 'RT @GiorgiaMeloni: A #Livorno i centri sociali ci impediscono persino di passeggiare nella piazza. \\nEcco la DEMOCRAZIA di cui parlano tanto…': {'num_RT': 915,\n",
       "  'user': 'Giorgia Meloni ن',\n",
       "  'user_followers': 646804,\n",
       "  'user_friends': 689,\n",
       "  'user_id': 130537001},\n",
       " 'RT @GiorgiaMeloni: Insulti e bottigliate dai centri sociali di #Livorno, questa è la sinistra che vuole dare lezioni di democrazia\\nhttps://…': {'num_RT': 456,\n",
       "  'user': 'Giorgia Meloni ن',\n",
       "  'user_followers': 646805,\n",
       "  'user_friends': 689,\n",
       "  'user_id': 130537001},\n",
       " 'RT @LiveSpinoza: Di Maio sta già consultando il tutorial di Aranzulla su come si governa un paese.\\n#elezioni2018\\n[@Mordicchio90]': {'num_RT': 1375,\n",
       "  'user': 'Spinoza LIVE',\n",
       "  'user_followers': 107652,\n",
       "  'user_friends': 64,\n",
       "  'user_id': 870362407},\n",
       " 'RT @TheMyx: Se non avete votato Casapound perché non siete fascisti ma avete votato Lega, vi dico un segreto: siete fascisti. #Elezioni2018': {'num_RT': 433,\n",
       "  'user': 'Marco Munari',\n",
       "  'user_followers': 211,\n",
       "  'user_friends': 530,\n",
       "  'user_id': 60981224},\n",
       " \"RT @foisluca84: Gli ultimi sondaggi danno in vantaggio al 42% la Danimarca come nazione preferita per l'espatrio.\\n\\n#elezioni2018 #SilenzioE…\": {'num_RT': 1001,\n",
       "  'user': 'Luca Fois',\n",
       "  'user_followers': 10805,\n",
       "  'user_friends': 333,\n",
       "  'user_id': 3331874607},\n",
       " 'RT @lefrasidiosho: Certe file ai seggi che manco ai saldi #elezioni2018 #iltempodioshø @tempoweb https://t.co/3fujQSZbw5': {'num_RT': 556,\n",
       "  'user': 'Le frasi di Oshø',\n",
       "  'user_followers': 135601,\n",
       "  'user_friends': 448,\n",
       "  'user_id': 3096871079},\n",
       " 'RT @roberta_talia: Abbiamo votato bene solo una volta e quella volta abbiamo eletto Miss Italia Miriam Leone #elezioni2018': {'num_RT': 611,\n",
       "  'user': 'Roberta',\n",
       "  'user_followers': 17181,\n",
       "  'user_friends': 740,\n",
       "  'user_id': 70693258},\n",
       " 'RT @si_monce: Nel frattempo Di Maio si sta  preparando.\\n\\n#elezioni2018 https://t.co/JcV0sExXIl': {'num_RT': 731,\n",
       "  'user': 'Simouncino',\n",
       "  'user_followers': 11873,\n",
       "  'user_friends': 877,\n",
       "  'user_id': 882093132},\n",
       " 'RT @trash_italiano: Avremmo dovuto chiedere aiuto alle Bimbe di Giulia De Lellis. #Elezioni2018': {'num_RT': 454,\n",
       "  'user': 'trashitaliano.it',\n",
       "  'user_followers': 597195,\n",
       "  'user_friends': 489,\n",
       "  'user_id': 45174445}}"
      ]
     },
     "execution_count": 48,
     "metadata": {},
     "output_type": "execute_result"
    }
   ],
   "source": [
    "retweet_output_dict"
   ]
  },
  {
   "cell_type": "markdown",
   "metadata": {},
   "source": [
    "# Top 10 users"
   ]
  },
  {
   "cell_type": "code",
   "execution_count": 49,
   "metadata": {},
   "outputs": [],
   "source": [
    "count_user_tweet = defaultdict(int)\n",
    "for i in range(len(data)):\n",
    "    count_user_tweet[data[i]['user']['id']] += 1"
   ]
  },
  {
   "cell_type": "code",
   "execution_count": 50,
   "metadata": {},
   "outputs": [],
   "source": [
    "top_10 = [w for w in sorted(count_user_tweet, key=count_user_tweet.get, reverse=True)[:10]]"
   ]
  },
  {
   "cell_type": "code",
   "execution_count": 51,
   "metadata": {},
   "outputs": [
    {
     "data": {
      "text/plain": [
       "[700879460845760512,\n",
       " 633831925,\n",
       " 815549036,\n",
       " 397148046,\n",
       " 2364101904,\n",
       " 267220891,\n",
       " 701796846952386560,\n",
       " 2348285916,\n",
       " 1011283068,\n",
       " 314488804]"
      ]
     },
     "execution_count": 51,
     "metadata": {},
     "output_type": "execute_result"
    }
   ],
   "source": [
    "top_10"
   ]
  },
  {
   "cell_type": "code",
   "execution_count": 52,
   "metadata": {},
   "outputs": [],
   "source": [
    "find_id = []\n",
    "info_user = {}\n",
    "\n",
    "for i in range(len(data)):\n",
    "    \n",
    "    if data[i]['user']['id'] in top_10:\n",
    "        if len(set(find_id)) < 10:\n",
    "            info_user[data[i]['user']['id']] = {}\n",
    "            info_user[data[i]['user']['id']]['followers_count'] = data[i]['user']['followers_count']\n",
    "            info_user[data[i]['user']['id']]['favourites_count'] = data[i]['user']['favourites_count']\n",
    "            info_user[data[i]['user']['id']]['description'] = data[i]['user']['description']\n",
    "            info_user[data[i]['user']['id']]['location'] = data[i]['user']['location']\n",
    "            info_user[data[i]['user']['id']]['name'] = data[i]['user']['name']\n",
    "            info_user[data[i]['user']['id']]['lang'] = data[i]['user']['lang']\n",
    "\n",
    "        find_id += [data[i]['user']['id']]"
   ]
  },
  {
   "cell_type": "code",
   "execution_count": 53,
   "metadata": {},
   "outputs": [
    {
     "data": {
      "text/plain": [
       "{267220891: {'description': 'Quotidiano online gratuito: tutto sulla tua città e sulla tua provincia con un semplice click. Seguici!',\n",
       "  'favourites_count': 4,\n",
       "  'followers_count': 3970,\n",
       "  'lang': 'it',\n",
       "  'location': 'Livorno',\n",
       "  'name': 'QuiLivorno.it'},\n",
       " 314488804: {'description': \"@ #Pisa, Leaning News All Around The Tower - All'ombra della Torre le Notizie che non ti aspetti. Stay Connected! Author: @binowsky\",\n",
       "  'favourites_count': 7223,\n",
       "  'followers_count': 6021,\n",
       "  'lang': 'it',\n",
       "  'location': 'Pisa, Toscana',\n",
       "  'name': 'PisaConnection'},\n",
       " 397148046: {'description': '#Livorno, blog di politica ed economia interamente dedicato alla città Livorno',\n",
       "  'favourites_count': 538,\n",
       "  'followers_count': 1255,\n",
       "  'lang': 'it',\n",
       "  'location': 'Livorno',\n",
       "  'name': 'Livorno Times Blog'},\n",
       " 633831925: {'description': 'Il canale ufficiale della mobilità in Toscana. 7 giorni su 7, dalle 7 alle 20 #viabiliTOS\\nPolicy: https://t.co/3Nxfc2MjVT',\n",
       "  'favourites_count': 11048,\n",
       "  'followers_count': 7870,\n",
       "  'lang': 'it',\n",
       "  'location': 'Toscana, Italia',\n",
       "  'name': 'Muoversi in Toscana'},\n",
       " 815549036: {'description': \"Lucca in Diretta quotidiano online edito da Note.\\r\\nL'informazione è un bene comune\",\n",
       "  'favourites_count': 1,\n",
       "  'followers_count': 3866,\n",
       "  'lang': 'it',\n",
       "  'location': '',\n",
       "  'name': 'Luccaindiretta'},\n",
       " 1011283068: {'description': '#Blogger, #Intermediario Assicurativo, esperto di pallacanestro livornese, tifoso del Milan e della Libertas Livorno, webdesigner e webmaster, blogger politico',\n",
       "  'favourites_count': 5113,\n",
       "  'followers_count': 1028,\n",
       "  'lang': 'it',\n",
       "  'location': 'Livorno',\n",
       "  'name': 'Massimo Landi \\uf8ff'},\n",
       " 2348285916: {'description': '#Italian #Wine #Wineries #Sommelier #Distributor  #Blog  #Fairs #WineTourism #WineLovers  #Beer #vino : News from the #wineworld',\n",
       "  'favourites_count': 143960,\n",
       "  'followers_count': 23720,\n",
       "  'lang': 'it',\n",
       "  'location': 'Fiume Veneto',\n",
       "  'name': 'ItalianWineMarketing'},\n",
       " 2364101904: {'description': 'LA PAGINA CHE PARLA DI LUCCA CON IMMAGINI CHE NE ESALTANO LA SECOLARE BELLEZZA, PARLATE DI NOI E AIUTATECI A CRESCERE. HASHTAG #conoscerelucca',\n",
       "  'favourites_count': 148,\n",
       "  'followers_count': 1422,\n",
       "  'lang': 'it',\n",
       "  'location': 'Lucca, Toscana',\n",
       "  'name': 'Conoscere Lucca'},\n",
       " 700879460845760512: {'description': 'Massa-Carrara #news & #retweet ( #RT ) - Vuoi segnalare qualche notizia? Seguimi e Invia tweet che contenga #MassaCarrara #news e la retwitto ai miei follower',\n",
       "  'favourites_count': 0,\n",
       "  'followers_count': 139,\n",
       "  'lang': 'it',\n",
       "  'location': 'Massa-Carrara, Toscana',\n",
       "  'name': 'ITnews Massa-Carrara'},\n",
       " 701796846952386560: {'description': 'We are @TwitItalianWine. We\\'ve created this BOT which works automatically and promotes Wines \"On Line\" in the world',\n",
       "  'favourites_count': 136805,\n",
       "  'followers_count': 17235,\n",
       "  'lang': 'it',\n",
       "  'location': 'Italia',\n",
       "  'name': 'Wine On Line'}}"
      ]
     },
     "execution_count": 53,
     "metadata": {},
     "output_type": "execute_result"
    }
   ],
   "source": [
    "info_user"
   ]
  },
  {
   "cell_type": "markdown",
   "metadata": {},
   "source": [
    "# Lingua"
   ]
  },
  {
   "cell_type": "code",
   "execution_count": 54,
   "metadata": {},
   "outputs": [],
   "source": [
    "data_small = []\n",
    "dictionary_lang = {}\n",
    "for t in range(len(data)):\n",
    "    dictionary_lang[t] = data[t]['lang']\n",
    "    \n",
    "    \n",
    "    try:\n",
    "        dictionary_lang[t] = data[t]['retweeted_status']['lang']\n",
    "    except:\n",
    "        dictionary_lang[t] = data[t]['lang']\n",
    "            \n",
    "        data_small += [data[t]]"
   ]
  },
  {
   "cell_type": "code",
   "execution_count": 56,
   "metadata": {},
   "outputs": [],
   "source": [
    "import collections"
   ]
  },
  {
   "cell_type": "code",
   "execution_count": 57,
   "metadata": {},
   "outputs": [],
   "source": [
    "counter_lingua = collections.Counter(list(dictionary_lang.values()))"
   ]
  },
  {
   "cell_type": "markdown",
   "metadata": {},
   "source": [
    "# Numero tweet nel tempo"
   ]
  },
  {
   "cell_type": "code",
   "execution_count": 135,
   "metadata": {},
   "outputs": [],
   "source": [
    "list_date = []\n",
    "for i in range(len(data)):\n",
    "    \n",
    "    list_date += [data[i]['created_at']]\n",
    "    \n",
    "    try:\n",
    "        list_date += [data[i]['retweeted_status']['created_at']]\n",
    "    except: continue"
   ]
  },
  {
   "cell_type": "code",
   "execution_count": 136,
   "metadata": {},
   "outputs": [],
   "source": [
    "ts = pd.to_datetime(list_date)"
   ]
  },
  {
   "cell_type": "code",
   "execution_count": 184,
   "metadata": {},
   "outputs": [],
   "source": [
    "df = pd.DataFrame()"
   ]
  },
  {
   "cell_type": "code",
   "execution_count": 185,
   "metadata": {},
   "outputs": [],
   "source": [
    "df['Time'] = ts\n",
    "df['freq'] = [1]*len(ts)"
   ]
  },
  {
   "cell_type": "markdown",
   "metadata": {},
   "source": [
    "# Groupby \n",
    "\n",
    "## Hours"
   ]
  },
  {
   "cell_type": "code",
   "execution_count": 192,
   "metadata": {},
   "outputs": [
    {
     "data": {
      "text/plain": [
       "<matplotlib.axes._subplots.AxesSubplot at 0x151f310f60>"
      ]
     },
     "execution_count": 192,
     "metadata": {},
     "output_type": "execute_result"
    },
    {
     "data": {
      "image/png": "[encoded data removed]",
      "text/plain": [
       "<matplotlib.figure.Figure at 0x151f0cc240>"
      ]
     },
     "metadata": {},
     "output_type": "display_data"
    }
   ],
   "source": [
    "df.index = df['Time']\n",
    "df.groupby(df.index.hour).sum().plot()"
   ]
  },
  {
   "cell_type": "code",
   "execution_count": 193,
   "metadata": {},
   "outputs": [],
   "source": [
    "df = pd.DataFrame()\n",
    "df['Time'] = ts\n",
    "df['freq'] = [1]*len(ts)\n",
    "df.set_index('Time', inplace=True)"
   ]
  },
  {
   "cell_type": "code",
   "execution_count": 194,
   "metadata": {},
   "outputs": [
    {
     "name": "stderr",
     "output_type": "stream",
     "text": [
      "/anaconda3/lib/python3.6/site-packages/ipykernel_launcher.py:1: FutureWarning: pd.TimeGrouper is deprecated and will be removed; Please use pd.Grouper(freq=...)\n",
      "  \"\"\"Entry point for launching an IPython kernel.\n"
     ]
    }
   ],
   "source": [
    "df = df.groupby(pd.TimeGrouper(level='Time', freq='60T'))['freq'].agg('sum')   \n"
   ]
  },
  {
   "cell_type": "code",
   "execution_count": 195,
   "metadata": {},
   "outputs": [
    {
     "data": {
      "text/plain": [
       "<matplotlib.axes._subplots.AxesSubplot at 0x151f310e80>"
      ]
     },
     "execution_count": 195,
     "metadata": {},
     "output_type": "execute_result"
    },
    {
     "data": {
      "image/png": "[encoded data removed]",
      "text/plain": [
       "<matplotlib.figure.Figure at 0x151f0b99b0>"
      ]
     },
     "metadata": {},
     "output_type": "display_data"
    }
   ],
   "source": [
    "df.plot()"
   ]
  }
 ],
 "metadata": {
  "kernelspec": {
   "display_name": "Python 3",
   "language": "python",
   "name": "python3"
  },
  "language_info": {
   "codemirror_mode": {
    "name": "ipython",
    "version": 3
   },
   "file_extension": ".py",
   "mimetype": "text/x-python",
   "name": "python",
   "nbconvert_exporter": "python",
   "pygments_lexer": "ipython3",
   "version": "3.6.4"
  }
 },
 "nbformat": 4,
 "nbformat_minor": 2
}
